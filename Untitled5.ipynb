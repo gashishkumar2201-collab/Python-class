{
  "nbformat": 4,
  "nbformat_minor": 0,
  "metadata": {
    "colab": {
      "provenance": [],
      "authorship_tag": "ABX9TyOajiR9Dmx6gHqcs3pTXpBx",
      "include_colab_link": true
    },
    "kernelspec": {
      "name": "python3",
      "display_name": "Python 3"
    },
    "language_info": {
      "name": "python"
    }
  },
  "cells": [
    {
      "cell_type": "markdown",
      "metadata": {
        "id": "view-in-github",
        "colab_type": "text"
      },
      "source": [
        "<a href=\"https://colab.research.google.com/github/gashishkumar2201-collab/Python-class/blob/main/Untitled5.ipynb\" target=\"_parent\"><img src=\"https://colab.research.google.com/assets/colab-badge.svg\" alt=\"Open In Colab\"/></a>"
      ]
    },
    {
      "cell_type": "code",
      "execution_count": null,
      "metadata": {
        "id": "Vl560QmmKsQS"
      },
      "outputs": [],
      "source": [
        "days=input(\"enter day\")\n",
        "if days ==\"sunday\" or days == \"saturday\":\n",
        "   print(\"weekend\")\n",
        "else:\n",
        "  print(\"non weekend\")"
      ]
    },
    {
      "cell_type": "code",
      "source": [
        "person_age=int(input(\"enter person age\"))\n",
        "if person_age>=60:\n",
        "  print(\"elder\")\n",
        "elif person_age<=30:\n",
        "  print(\"younger\")\n",
        "else:\n",
        "  print(\"teenager\")\n",
        "\n",
        "\n",
        "\n"
      ],
      "metadata": {
        "colab": {
          "base_uri": "https://localhost:8080/"
        },
        "id": "LqkMKkhjIem1",
        "outputId": "3d05bd3e-e106-49d7-ae9b-8930f0ef7ef4"
      },
      "execution_count": 13,
      "outputs": [
        {
          "output_type": "stream",
          "name": "stdout",
          "text": [
            "enter person age27\n",
            "younger\n"
          ]
        }
      ]
    },
    {
      "cell_type": "code",
      "source": [
        "first_boy_marks=int(input(\"enter first boy marks\"))\n",
        "if first_boy_marks>=90:\n",
        "  print(\"topper\")\n",
        "elif first_boy_marks>=30:\n",
        "  print(\"average\")\n",
        "else:\n",
        "  print(\"fail\")"
      ],
      "metadata": {
        "colab": {
          "base_uri": "https://localhost:8080/"
        },
        "id": "ygjLgQocN47s",
        "outputId": "ed798f85-2b71-4af1-af3b-128e7d930f04"
      },
      "execution_count": 17,
      "outputs": [
        {
          "output_type": "stream",
          "name": "stdout",
          "text": [
            "enter first boy marks48\n",
            "average\n"
          ]
        }
      ]
    },
    {
      "cell_type": "code",
      "source": [
        "gender=input(\"enter gender\")\n",
        "age=int(input(\"enter age\"))\n",
        "if gender==\"male\":\n",
        "  print(\"bilding A\")\n",
        "  if age<=30:\n",
        "   print(\"bilding A block A\")\n",
        "  elif age>30:\n",
        "   print(\"bilding A block B\")\n",
        "elif gender==\"female\":\n",
        "  print(\"blobk B\")\n",
        "  if age<=30:\n",
        "   print(\"bilding B\")\n",
        "  elif age>30:\n",
        "   print(\"binding B block B\")\n",
        "else:\n",
        "  print(\"other\")"
      ],
      "metadata": {
        "colab": {
          "base_uri": "https://localhost:8080/"
        },
        "id": "7A1X2LaqSV61",
        "outputId": "f1ff28d0-a3d4-41f2-edd6-da948f0a5bc5"
      },
      "execution_count": 23,
      "outputs": [
        {
          "output_type": "stream",
          "name": "stdout",
          "text": [
            "enter genderfemale\n",
            "enter age32\n",
            "blobk B\n",
            "binding B block B\n"
          ]
        }
      ]
    },
    {
      "cell_type": "code",
      "source": [],
      "metadata": {
        "id": "r3F8UDjdc6US"
      },
      "execution_count": null,
      "outputs": []
    }
  ]
}