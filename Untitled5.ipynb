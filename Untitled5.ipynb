{
  "cells": [
    {
      "cell_type": "markdown",
      "metadata": {
        "id": "view-in-github",
        "colab_type": "text"
      },
      "source": [
        "<a href=\"https://colab.research.google.com/github/gashishkumar2201-collab/Python-class/blob/main/Untitled5.ipynb\" target=\"_parent\"><img src=\"https://colab.research.google.com/assets/colab-badge.svg\" alt=\"Open In Colab\"/></a>"
      ]
    },
    {
      "cell_type": "code",
      "execution_count": null,
      "metadata": {
        "id": "Vl560QmmKsQS"
      },
      "outputs": [],
      "source": [
        "days=input(\"enter day\")\n",
        "if days ==\"sunday\" or days == \"saturday\":\n",
        "   print(\"weekend\")\n",
        "else:\n",
        "  print(\"non weekend\")"
      ]
    },
    {
      "cell_type": "code",
      "execution_count": null,
      "metadata": {
        "colab": {
          "base_uri": "https://localhost:8080/"
        },
        "id": "LqkMKkhjIem1",
        "outputId": "3d05bd3e-e106-49d7-ae9b-8930f0ef7ef4"
      },
      "outputs": [
        {
          "name": "stdout",
          "output_type": "stream",
          "text": [
            "enter person age27\n",
            "younger\n"
          ]
        }
      ],
      "source": [
        "person_age=int(input(\"enter person age\"))\n",
        "if person_age>=60:\n",
        "  print(\"elder\")\n",
        "elif person_age<=30:\n",
        "  print(\"younger\")\n",
        "else:\n",
        "  print(\"teenager\")\n",
        "\n",
        "\n",
        "\n"
      ]
    },
    {
      "cell_type": "code",
      "execution_count": null,
      "metadata": {
        "colab": {
          "base_uri": "https://localhost:8080/"
        },
        "id": "ygjLgQocN47s",
        "outputId": "ed798f85-2b71-4af1-af3b-128e7d930f04"
      },
      "outputs": [
        {
          "name": "stdout",
          "output_type": "stream",
          "text": [
            "enter first boy marks48\n",
            "average\n"
          ]
        }
      ],
      "source": [
        "first_boy_marks=int(input(\"enter first boy marks\"))\n",
        "if first_boy_marks>=90:\n",
        "  print(\"topper\")\n",
        "elif first_boy_marks>=30:\n",
        "  print(\"average\")\n",
        "else:\n",
        "  print(\"fail\")"
      ]
    },
    {
      "cell_type": "code",
      "execution_count": null,
      "metadata": {
        "colab": {
          "base_uri": "https://localhost:8080/"
        },
        "id": "7A1X2LaqSV61",
        "outputId": "f1ff28d0-a3d4-41f2-edd6-da948f0a5bc5"
      },
      "outputs": [
        {
          "name": "stdout",
          "output_type": "stream",
          "text": [
            "enter genderfemale\n",
            "enter age32\n",
            "blobk B\n",
            "binding B block B\n"
          ]
        }
      ],
      "source": [
        "gender=input(\"enter gender\")\n",
        "age=int(input(\"enter age\"))\n",
        "if gender==\"male\":\n",
        "  print(\"bilding A\")\n",
        "  if age<=30:\n",
        "   print(\"bilding A block A\")\n",
        "  elif age>30:\n",
        "   print(\"bilding A block B\")\n",
        "elif gender==\"female\":\n",
        "  print(\"blobk B\")\n",
        "  if age<=30:\n",
        "   print(\"bilding B\")\n",
        "  elif age>30:\n",
        "   print(\"binding B block B\")\n",
        "else:\n",
        "  print(\"other\")"
      ]
    },
    {
      "cell_type": "code",
      "execution_count": null,
      "metadata": {
        "colab": {
          "base_uri": "https://localhost:8080/"
        },
        "id": "r3F8UDjdc6US",
        "outputId": "79a31bba-61a3-410d-a031-3b933f41ce23"
      },
      "outputs": [
        {
          "name": "stdout",
          "output_type": "stream",
          "text": [
            "1\n",
            "2\n",
            "3\n",
            "4\n",
            "5\n",
            "6\n",
            "7\n",
            "8\n",
            "9\n",
            "10\n",
            "11\n",
            "12\n",
            "13\n",
            "14\n",
            "15\n",
            "16\n",
            "17\n",
            "18\n",
            "19\n",
            "20\n",
            "21\n",
            "22\n",
            "23\n",
            "24\n",
            "25\n",
            "26\n",
            "27\n",
            "28\n",
            "29\n",
            "30\n",
            "31\n",
            "32\n",
            "33\n",
            "34\n",
            "35\n",
            "36\n",
            "37\n",
            "38\n",
            "39\n",
            "40\n",
            "41\n",
            "42\n",
            "43\n",
            "44\n",
            "45\n",
            "46\n",
            "47\n",
            "48\n",
            "49\n",
            "50\n",
            "51\n",
            "52\n",
            "53\n",
            "54\n",
            "55\n",
            "56\n",
            "57\n",
            "58\n",
            "59\n",
            "60\n",
            "61\n",
            "62\n",
            "63\n",
            "64\n",
            "65\n",
            "66\n",
            "67\n",
            "68\n",
            "69\n",
            "70\n",
            "71\n",
            "72\n",
            "73\n",
            "74\n",
            "75\n",
            "76\n",
            "77\n",
            "78\n",
            "79\n",
            "80\n",
            "81\n",
            "82\n",
            "83\n",
            "84\n",
            "85\n",
            "86\n",
            "87\n",
            "88\n",
            "89\n",
            "90\n",
            "91\n",
            "92\n",
            "93\n",
            "94\n",
            "95\n",
            "96\n",
            "97\n",
            "98\n",
            "99\n",
            "100\n"
          ]
        }
      ],
      "source": [
        "for i in range(1,101):\n",
        "  print(i)\n"
      ]
    },
    {
      "cell_type": "code",
      "execution_count": null,
      "metadata": {
        "colab": {
          "base_uri": "https://localhost:8080/"
        },
        "id": "0-W_28UE9N7s",
        "outputId": "348e8257-3ac9-4e96-b963-fc058d0235b4"
      },
      "outputs": [
        {
          "output_type": "stream",
          "name": "stdout",
          "text": [
            "5050\n"
          ]
        }
      ],
      "source": [
        "sum=0\n",
        "for i in range(1,101):\n",
        "  sum=sum+i\n",
        "print(sum)"
      ]
    },
    {
      "cell_type": "code",
      "execution_count": null,
      "metadata": {
        "colab": {
          "base_uri": "https://localhost:8080/"
        },
        "id": "I98HTXjdTUET",
        "outputId": "4e928733-6100-42be-fdc0-009506727827"
      },
      "outputs": [
        {
          "name": "stdout",
          "output_type": "stream",
          "text": [
            "enter price1000\n",
            "enter enterest rate5\n",
            "enter month3\n",
            "enter days20\n",
            "1150.0\n"
          ]
        }
      ],
      "source": [
        "price=int(input(\"enter price\"))\n",
        "interest_rate=int(input(\"enter enterest rate\"))\n",
        "month=int(input(\"enter month\"))\n",
        "days=int(input(\"enter days\"))\n",
        "total=month+days\n",
        "si=price*interest_rate*total/100\n",
        "print(si)"
      ]
    },
    {
      "cell_type": "code",
      "execution_count": null,
      "metadata": {
        "colab": {
          "base_uri": "https://localhost:8080/"
        },
        "id": "PRk5AEXfdiNL",
        "outputId": "30225e57-0f72-4e6e-b209-d10ec5a8cfb2"
      },
      "outputs": [
        {
          "name": "stdout",
          "output_type": "stream",
          "text": [
            "enter price:  1000\n",
            "enter interest rate:  5\n",
            "enter month:  3\n",
            "enter days:  15\n",
            "enter name of monthjune\n",
            "total time:  3.5\n",
            "175.0\n"
          ]
        }
      ],
      "source": [
        "price=int(input(\"enter price:  \"))\n",
        "interest_rate=int(input(\"enter interest rate:  \"))\n",
        "month_1=int(input(\"enter month:  \"))\n",
        "days=int(input(\"enter days:  \"))\n",
        "month=input(\"enter name of month  :\")\n",
        "if month==\"april\" or month==\"june\" or month==\"september\" or month==\"november\":\n",
        "  days_in_month=30\n",
        "elif month==\"february\":\n",
        "  days_in_month=28\n",
        "else:\n",
        "  days_in_month=31\n",
        "total_time=(days/days_in_month+month_1)\n",
        "print(\"total time: \",total_time)\n",
        "si=price*interest_rate*total_time/100\n",
        "print(si)\n"
      ]
    },
    {
      "cell_type": "code",
      "execution_count": null,
      "metadata": {
        "colab": {
          "base_uri": "https://localhost:8080/"
        },
        "id": "KAv_7F8uUu9o",
        "outputId": "797e38e4-835d-4ab8-c027-59c98fd942ae"
      },
      "outputs": [
        {
          "name": "stdout",
          "output_type": "stream",
          "text": [
            "120\n"
          ]
        }
      ],
      "source": [
        "fact = 1\n",
        "for i in range(1,6):\n",
        "  fact = fact*i\n",
        "print(fact)\n",
        "\n"
      ]
    },
    {
      "cell_type": "code",
      "execution_count": null,
      "metadata": {
        "colab": {
          "base_uri": "https://localhost:8080/"
        },
        "id": "j-IOfw3Xem9Q",
        "outputId": "32f758f6-d516-4206-bc6d-c01575ff0195"
      },
      "outputs": [
        {
          "name": "stdout",
          "output_type": "stream",
          "text": [
            "362880\n"
          ]
        }
      ],
      "source": [
        "fact = 1\n",
        "for i in range(1,10):\n",
        "  fact = fact*i\n",
        "print(fact)"
      ]
    },
    {
      "cell_type": "code",
      "execution_count": null,
      "metadata": {
        "colab": {
          "base_uri": "https://localhost:8080/"
        },
        "id": "DAxn5mRge7gG",
        "outputId": "23228fcc-a1de-4d2d-817e-1968a404c519"
      },
      "outputs": [
        {
          "name": "stdout",
          "output_type": "stream",
          "text": [
            "5040\n"
          ]
        }
      ],
      "source": [
        "fact = 1\n",
        "for i in range(1,8):\n",
        "  fact=fact*i\n",
        "print(fact)"
      ]
    },
    {
      "cell_type": "code",
      "execution_count": null,
      "metadata": {
        "colab": {
          "base_uri": "https://localhost:8080/"
        },
        "id": "GOY3rB8V16SU",
        "outputId": "d09c2043-d22d-4909-ca51-36508adb3417"
      },
      "outputs": [
        {
          "name": "stdout",
          "output_type": "stream",
          "text": [
            "enter price:  1000\n",
            "enter interest rate:  5\n",
            "enter month:  3\n",
            "enter days:  15\n",
            "enter name of month  :april\n",
            "enter the year  :2023\n",
            "it is not a leap year\n",
            "total time:  3.5357142857142856\n",
            "176.78571428571428\n"
          ]
        }
      ],
      "source": [
        "\n",
        "price=int(input(\"enter price:  \"))\n",
        "interest_rate=int(input(\"enter interest rate:  \"))\n",
        "month_1=int(input(\"enter month:  \"))\n",
        "days=int(input(\"enter days:  \"))\n",
        "month=input(\"enter name of month  :\")\n",
        "year=int(input(\"enter the year  :\"))\n",
        "if month==\"april\" or month==\"june\" or month==\"september\" or month==\"november\":\n",
        "  days_in_month=30\n",
        "elif month==\"january\" or month==\"march\" or month==\"may\" or month==\"july\" or month==\"august\" or month==\"october\" or month==\"december\":\n",
        "  days_in_month=31\n",
        "if year%4==0 and year%100!=0 or year%400==0:\n",
        "  days_in_month=29\n",
        "  print(\"it is a leap year \")\n",
        "else:\n",
        "  days_in_month=28\n",
        "  print(\"it is not a leap year\")\n",
        "total_time=(days/days_in_month+month_1)\n",
        "print(\"total time: \",total_time)\n",
        "si=price*interest_rate*total_time/100\n",
        "print(si)\n",
        "\n"
      ]
    },
    {
      "cell_type": "code",
      "execution_count": null,
      "metadata": {
        "colab": {
          "base_uri": "https://localhost:8080/"
        },
        "id": "vRxzbe_M_JFw",
        "outputId": "dff678b0-c49f-45cf-8493-1a53ad659e49"
      },
      "outputs": [
        {
          "name": "stdout",
          "output_type": "stream",
          "text": [
            "enter year  :2400\n",
            "it is a leap year \n"
          ]
        }
      ],
      "source": [
        "year=int(input(\"enter year  :\"))\n",
        "if year%4==0 and year%100!=0 or year%400==0:\n",
        "  days_in_month=29\n",
        "  print(\"it is a leap year \")\n",
        "else:\n",
        "  days_in_month=28\n",
        "  print(\"it is not a leap year\")\n"
      ]
    },
    {
      "cell_type": "code",
      "execution_count": null,
      "metadata": {
        "id": "oY1xiMsO3wh0"
      },
      "outputs": [],
      "source": []
    }
  ],
  "metadata": {
    "colab": {
      "provenance": [],
      "authorship_tag": "ABX9TyOEiiIlKiaeC/UYAqE5AkcI",
      "include_colab_link": true
    },
    "kernelspec": {
      "display_name": "Python 3",
      "name": "python3"
    },
    "language_info": {
      "name": "python"
    }
  },
  "nbformat": 4,
  "nbformat_minor": 0
}