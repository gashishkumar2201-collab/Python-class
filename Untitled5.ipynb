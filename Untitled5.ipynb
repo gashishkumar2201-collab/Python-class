{
  "nbformat": 4,
  "nbformat_minor": 0,
  "metadata": {
    "colab": {
      "provenance": [],
      "authorship_tag": "ABX9TyP4WthvbBg7BtYrqMpIFq/8",
      "include_colab_link": true
    },
    "kernelspec": {
      "name": "python3",
      "display_name": "Python 3"
    },
    "language_info": {
      "name": "python"
    }
  },
  "cells": [
    {
      "cell_type": "markdown",
      "metadata": {
        "id": "view-in-github",
        "colab_type": "text"
      },
      "source": [
        "<a href=\"https://colab.research.google.com/github/gashishkumar2201-collab/Python-class/blob/main/Untitled5.ipynb\" target=\"_parent\"><img src=\"https://colab.research.google.com/assets/colab-badge.svg\" alt=\"Open In Colab\"/></a>"
      ]
    },
    {
      "cell_type": "code",
      "execution_count": null,
      "metadata": {
        "id": "Vl560QmmKsQS"
      },
      "outputs": [],
      "source": [
        "days=input(\"enter day\")\n",
        "if days ==\"sunday\" or days == \"saturday\":\n",
        "   print(\"weekend\")\n",
        "else:\n",
        "  print(\"non weekend\")"
      ]
    },
    {
      "cell_type": "code",
      "source": [
        "person_age=int(input(\"enter person age\"))\n",
        "if person_age>=60:\n",
        "  print(\"elder\")\n",
        "elif person_age<=30:\n",
        "  print(\"younger\")\n",
        "else:\n",
        "  print(\"teenager\")\n",
        "\n",
        "\n",
        "\n"
      ],
      "metadata": {
        "colab": {
          "base_uri": "https://localhost:8080/"
        },
        "id": "LqkMKkhjIem1",
        "outputId": "3d05bd3e-e106-49d7-ae9b-8930f0ef7ef4"
      },
      "execution_count": 13,
      "outputs": [
        {
          "output_type": "stream",
          "name": "stdout",
          "text": [
            "enter person age27\n",
            "younger\n"
          ]
        }
      ]
    },
    {
      "cell_type": "code",
      "source": [
        "first_boy_marks=int(input(\"enter first boy marks\"))\n",
        "if first_boy_marks>=90:\n",
        "  print(\"topper\")\n",
        "elif first_boy_marks>=30:\n",
        "  print(\"average\")\n",
        "else:\n",
        "  print(\"fail\")"
      ],
      "metadata": {
        "colab": {
          "base_uri": "https://localhost:8080/"
        },
        "id": "ygjLgQocN47s",
        "outputId": "ed798f85-2b71-4af1-af3b-128e7d930f04"
      },
      "execution_count": 17,
      "outputs": [
        {
          "output_type": "stream",
          "name": "stdout",
          "text": [
            "enter first boy marks48\n",
            "average\n"
          ]
        }
      ]
    },
    {
      "cell_type": "code",
      "source": [
        "gender=input(\"enter gender\")\n",
        "age=int(input(\"enter age\"))\n",
        "if gender==\"male\":\n",
        "  print(\"bilding A\")\n",
        "  if age<=30:\n",
        "   print(\"bilding A block A\")\n",
        "  elif age>30:\n",
        "   print(\"bilding A block B\")\n",
        "elif gender==\"female\":\n",
        "  print(\"blobk B\")\n",
        "  if age<=30:\n",
        "   print(\"bilding B\")\n",
        "  elif age>30:\n",
        "   print(\"binding B block B\")\n",
        "else:\n",
        "  print(\"other\")"
      ],
      "metadata": {
        "colab": {
          "base_uri": "https://localhost:8080/"
        },
        "id": "7A1X2LaqSV61",
        "outputId": "f1ff28d0-a3d4-41f2-edd6-da948f0a5bc5"
      },
      "execution_count": 23,
      "outputs": [
        {
          "output_type": "stream",
          "name": "stdout",
          "text": [
            "enter genderfemale\n",
            "enter age32\n",
            "blobk B\n",
            "binding B block B\n"
          ]
        }
      ]
    },
    {
      "cell_type": "code",
      "source": [
        "for i in range(1,101):\n",
        "  print(i)\n",
        ""
      ],
      "metadata": {
        "colab": {
          "base_uri": "https://localhost:8080/"
        },
        "id": "r3F8UDjdc6US",
        "outputId": "79a31bba-61a3-410d-a031-3b933f41ce23"
      },
      "execution_count": 7,
      "outputs": [
        {
          "output_type": "stream",
          "name": "stdout",
          "text": [
            "1\n",
            "2\n",
            "3\n",
            "4\n",
            "5\n",
            "6\n",
            "7\n",
            "8\n",
            "9\n",
            "10\n",
            "11\n",
            "12\n",
            "13\n",
            "14\n",
            "15\n",
            "16\n",
            "17\n",
            "18\n",
            "19\n",
            "20\n",
            "21\n",
            "22\n",
            "23\n",
            "24\n",
            "25\n",
            "26\n",
            "27\n",
            "28\n",
            "29\n",
            "30\n",
            "31\n",
            "32\n",
            "33\n",
            "34\n",
            "35\n",
            "36\n",
            "37\n",
            "38\n",
            "39\n",
            "40\n",
            "41\n",
            "42\n",
            "43\n",
            "44\n",
            "45\n",
            "46\n",
            "47\n",
            "48\n",
            "49\n",
            "50\n",
            "51\n",
            "52\n",
            "53\n",
            "54\n",
            "55\n",
            "56\n",
            "57\n",
            "58\n",
            "59\n",
            "60\n",
            "61\n",
            "62\n",
            "63\n",
            "64\n",
            "65\n",
            "66\n",
            "67\n",
            "68\n",
            "69\n",
            "70\n",
            "71\n",
            "72\n",
            "73\n",
            "74\n",
            "75\n",
            "76\n",
            "77\n",
            "78\n",
            "79\n",
            "80\n",
            "81\n",
            "82\n",
            "83\n",
            "84\n",
            "85\n",
            "86\n",
            "87\n",
            "88\n",
            "89\n",
            "90\n",
            "91\n",
            "92\n",
            "93\n",
            "94\n",
            "95\n",
            "96\n",
            "97\n",
            "98\n",
            "99\n",
            "100\n"
          ]
        }
      ]
    },
    {
      "cell_type": "code",
      "source": [
        "price=int(input(\"enter price\"))\n",
        "interest_rate=int(input(\"enter enterest rate\"))\n",
        "month=int(input(\"enter month\"))\n",
        "days=int(input(\"enter days\"))\n",
        "total=month+days\n",
        "si=price*interest_rate*total/100\n",
        "print(si)"
      ],
      "metadata": {
        "colab": {
          "base_uri": "https://localhost:8080/"
        },
        "id": "I98HTXjdTUET",
        "outputId": "4e928733-6100-42be-fdc0-009506727827"
      },
      "execution_count": 12,
      "outputs": [
        {
          "output_type": "stream",
          "name": "stdout",
          "text": [
            "enter price1000\n",
            "enter enterest rate5\n",
            "enter month3\n",
            "enter days20\n",
            "1150.0\n"
          ]
        }
      ]
    },
    {
      "cell_type": "code",
      "source": [
        "price=int(input(\"enter price:  \"))\n",
        "interest_rate=int(input(\"enter interest rate:  \"))\n",
        "month=int(input(\"enter month:  \"))\n",
        "days=int(input(\"enter days:  \"))\n",
        "if month==30:\n",
        " total_time=(month*30+days)\n",
        "\n",
        "print(\"total time: \",total_time)\n",
        "si=price*interest_rate*total_time/100\n",
        "print(si)\n"
      ],
      "metadata": {
        "colab": {
          "base_uri": "https://localhost:8080/"
        },
        "id": "PRk5AEXfdiNL",
        "outputId": "70e8a4dd-8612-4e24-ceec-a29d137adc6c"
      },
      "execution_count": 4,
      "outputs": [
        {
          "output_type": "stream",
          "name": "stdout",
          "text": [
            "enter price:  1000\n",
            "enter interest rate:  5\n",
            "enter month:  3\n",
            "enter days:  15\n",
            "total time:  105\n",
            "5250.0\n"
          ]
        }
      ]
    },
    {
      "cell_type": "code",
      "source": [],
      "metadata": {
        "colab": {
          "base_uri": "https://localhost:8080/"
        },
        "id": "8T62O9Q7ZSFl",
        "outputId": "248158cc-c7ac-4389-89b3-673daff1234d"
      },
      "execution_count": 3,
      "outputs": [
        {
          "output_type": "stream",
          "name": "stdout",
          "text": [
            "railway ticket sold\n"
          ]
        }
      ]
    }
  ]
}