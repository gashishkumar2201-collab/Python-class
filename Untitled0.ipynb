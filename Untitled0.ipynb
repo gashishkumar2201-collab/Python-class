{
  "nbformat": 4,
  "nbformat_minor": 0,
  "metadata": {
    "colab": {
      "provenance": [],
      "authorship_tag": "ABX9TyMEx8rR2iG2CgT2P6v/IKX9",
      "include_colab_link": true
    },
    "kernelspec": {
      "name": "python3",
      "display_name": "Python 3"
    },
    "language_info": {
      "name": "python"
    }
  },
  "cells": [
    {
      "cell_type": "markdown",
      "metadata": {
        "id": "view-in-github",
        "colab_type": "text"
      },
      "source": [
        "<a href=\"https://colab.research.google.com/github/gashishkumar2201-collab/Python-class/blob/main/Untitled0.ipynb\" target=\"_parent\"><img src=\"https://colab.research.google.com/assets/colab-badge.svg\" alt=\"Open In Colab\"/></a>"
      ]
    },
    {
      "cell_type": "code",
      "execution_count": 3,
      "metadata": {
        "colab": {
          "base_uri": "https://localhost:8080/"
        },
        "id": "mC_uzrmPFlyC",
        "outputId": "658306f7-c9f4-4e67-f06f-111cd3e59e22"
      },
      "outputs": [
        {
          "output_type": "stream",
          "name": "stdout",
          "text": [
            "hello good everyone \n"
          ]
        }
      ],
      "source": [
        "#Hi this is my first of coding\n",
        "'''The new Colab AI experience is now available to all users.\n",
        " This version has an agentic collaborator run with Gemini 2.5\n",
        "\n",
        " Flash and enhances productivity with features like iterative querying,\n",
        "  a next-gen data science agent, code transformation, and more\n",
        "   to significantly improve coding workflows for developers. (Blog, X)'''\n",
        "print(\"hello good everyone \")\n",
        "\n",
        "\n",
        "\n",
        "\n",
        "\n"
      ]
    },
    {
      "cell_type": "code",
      "source": [],
      "metadata": {
        "id": "H2rMaNe8IzrM"
      },
      "execution_count": null,
      "outputs": []
    },
    {
      "cell_type": "code",
      "source": [
        "print(\"Pizza : 30\")\n",
        "print(\"My age 17 years \")\n",
        "print(\"i read in class 11th\")\n",
        "print(\"I live in chandigrah\")\n",
        "print(\"My father name is Ramesh sah \")\n",
        "print(\"My mother name is Bindu devi\")\n",
        "print(\"My hobby is reading books \")\n",
        "print(\"My best friend name is Yashmeet kour\")\n",
        "print(\"I love playing football\")\n",
        "print(\"Ilove my uncle also his  name is aanad gupata \")\n",
        "\n"
      ],
      "metadata": {
        "colab": {
          "base_uri": "https://localhost:8080/"
        },
        "id": "nqz8ZTbKIzvv",
        "outputId": "27d84964-6cfb-4ffc-c7a5-48dd59b4bbe4"
      },
      "execution_count": 4,
      "outputs": [
        {
          "output_type": "stream",
          "name": "stdout",
          "text": [
            "My name is ashish kumar\n",
            "My age 17 years \n",
            "i read in class 11th\n",
            "I live in chandigrah\n",
            "My father name is Ramesh sah \n",
            "My mother name is Bindu devi\n",
            "My hobby is reading books \n",
            "My best friend name is Yashmeet kour\n",
            "I love playing football\n",
            "Ilove my uncle also his  name is aanad gupata \n"
          ]
        }
      ]
    },
    {
      "cell_type": "code",
      "source": [
        "print(\"Pizza  :  30\")\n",
        "print(\"Burger :  25\")\n",
        "print(\"Noddel :  40\")\n",
        "print(\"Pasta  :  60\")\n",
        "print(\"coffe  :  99\")\n",
        "print(\"chicken: 120\")\n",
        "print(\"tea    :  30\")\n",
        "print(\"coke   :  20\")\n",
        "print(\"momos  :  40\")\n",
        "print(\"chicken momos  :  120\")\n",
        "print(\"spring roll  :  60\")"
      ],
      "metadata": {
        "colab": {
          "base_uri": "https://localhost:8080/"
        },
        "id": "8zhC4ql0MDlr",
        "outputId": "91cfcc2b-204c-489a-c0e1-013de015a482"
      },
      "execution_count": 8,
      "outputs": [
        {
          "output_type": "stream",
          "name": "stdout",
          "text": [
            "Pizza  :  30\n",
            "Burger :  25\n",
            "Noddel :  40\n",
            "Pasta  :  60\n",
            "coffe  :  99\n",
            "chicken: 120\n",
            "tea    :  30\n",
            "coke   :  20\n",
            "momos  :  40\n",
            "chicken momos  :  120\n",
            "spring roll  :  60\n"
          ]
        }
      ]
    },
    {
      "cell_type": "code",
      "source": [
        "print(\"Poroduct\")\n",
        "print(\"chips  :  20\")\n",
        "print(\"coke   :  100\")\n",
        "print(\"pen    :  10\")\n",
        "print(\"copy   :  60\")\n",
        "print(\"rice   :  120\")\n",
        "print(\"phone  :  100000\")\n",
        "print(\"charger:  7000\")\n",
        "print(\"laptop :  100000\")\n",
        "print(\"computer: 100000\")\n",
        "print(\"table   : 20000\")\n",
        "print(\"mouse  :  1000\")\n",
        "print(\"keyboard: 2000\")\n",
        "print(\"headphone:4000\")\n",
        "print(\"bulb   :  120\")\n",
        "print(\"LED    :  200\")\n",
        "print(\"cooler :  7000\")"
      ],
      "metadata": {
        "colab": {
          "base_uri": "https://localhost:8080/"
        },
        "id": "ZhnToxSZPXoe",
        "outputId": "8b89641b-0f19-400a-e3ed-1903c7503165"
      },
      "execution_count": 9,
      "outputs": [
        {
          "output_type": "stream",
          "name": "stdout",
          "text": [
            "Poroduct\n",
            "chips  :  20\n",
            "coke   :  100\n",
            "pen    :  10\n",
            "copy   :  60\n",
            "rice   :  120\n",
            "phone  :  100000\n",
            "charger:  7000\n",
            "laptop :  100000\n",
            "computer: 100000\n",
            "table   : 20000\n",
            "mouse  :  1000\n",
            "keyboard: 2000\n",
            "headphone:4000\n",
            "bulb   :  120\n",
            "LED    :  200\n",
            "cooler :  7000\n"
          ]
        }
      ]
    },
    {
      "cell_type": "code",
      "source": [],
      "metadata": {
        "colab": {
          "base_uri": "https://localhost:8080/"
        },
        "id": "D1S917FLTGlG",
        "outputId": "a2483b72-684d-405c-f420-4c54758d9330"
      },
      "execution_count": 11,
      "outputs": [
        {
          "output_type": "stream",
          "name": "stdout",
          "text": [
            "11\n"
          ]
        }
      ]
    },
    {
      "cell_type": "markdown",
      "source": [],
      "metadata": {
        "id": "NBWCZ5jEUc2R"
      }
    }
  ]
}