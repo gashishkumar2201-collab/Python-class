{
  "nbformat": 4,
  "nbformat_minor": 0,
  "metadata": {
    "colab": {
      "provenance": [],
      "authorship_tag": "ABX9TyPECKjUjazmb2WjzLep4DjU",
      "include_colab_link": true
    },
    "kernelspec": {
      "name": "python3",
      "display_name": "Python 3"
    },
    "language_info": {
      "name": "python"
    }
  },
  "cells": [
    {
      "cell_type": "markdown",
      "metadata": {
        "id": "view-in-github",
        "colab_type": "text"
      },
      "source": [
        "<a href=\"https://colab.research.google.com/github/gashishkumar2201-collab/Python-class/blob/main/Untitled9.ipynb\" target=\"_parent\"><img src=\"https://colab.research.google.com/assets/colab-badge.svg\" alt=\"Open In Colab\"/></a>"
      ]
    },
    {
      "cell_type": "code",
      "execution_count": 7,
      "metadata": {
        "colab": {
          "base_uri": "https://localhost:8080/"
        },
        "id": "pb2-oW1aY4h3",
        "outputId": "7fcd55e5-8ed5-4d29-d317-b694011b1c60"
      },
      "outputs": [
        {
          "output_type": "stream",
          "name": "stdout",
          "text": [
            "kunden\n",
            "kumar\n"
          ]
        }
      ],
      "source": [
        "with open (\"file 1.txt\",\"w\")as file:\n",
        "  file.write(\"kunden\")\n",
        "with open (\"file 2.txt\",\"w\")as file:\n",
        "  file.write(\"kumar\")\n",
        "with open(\"file 1.txt\",\"r\")as file:\n",
        "  data1=file.read()\n",
        "  print(data1)\n",
        "with open(\"file 2.txt\",\"r\")as file:\n",
        "  data2=file.read()\n",
        "  print(data2)\n",
        "with open (\"file 3.txt\",\"w\")as file:\n",
        "  file.write(data1+\"  \"+data2)\n"
      ]
    },
    {
      "cell_type": "code",
      "source": [],
      "metadata": {
        "id": "0UmEaK2dajUa"
      },
      "execution_count": null,
      "outputs": []
    }
  ]
}