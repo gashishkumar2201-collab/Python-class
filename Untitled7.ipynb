{
  "nbformat": 4,
  "nbformat_minor": 0,
  "metadata": {
    "colab": {
      "provenance": [],
      "authorship_tag": "ABX9TyNEPg5mVT3K/LyZgWWidvhq",
      "include_colab_link": true
    },
    "kernelspec": {
      "name": "python3",
      "display_name": "Python 3"
    },
    "language_info": {
      "name": "python"
    }
  },
  "cells": [
    {
      "cell_type": "markdown",
      "metadata": {
        "id": "view-in-github",
        "colab_type": "text"
      },
      "source": [
        "<a href=\"https://colab.research.google.com/github/gashishkumar2201-collab/Python-class/blob/main/Untitled7.ipynb\" target=\"_parent\"><img src=\"https://colab.research.google.com/assets/colab-badge.svg\" alt=\"Open In Colab\"/></a>"
      ]
    },
    {
      "cell_type": "code",
      "execution_count": 2,
      "metadata": {
        "colab": {
          "base_uri": "https://localhost:8080/"
        },
        "id": "elVwaIGrO0Tf",
        "outputId": "7dd6dff8-e13c-4de4-b2f3-fe5c4d56afd1"
      },
      "outputs": [
        {
          "output_type": "stream",
          "name": "stdout",
          "text": [
            "Billing System\n",
            "Enter first item name: pizza\n",
            "Enter first item quantity: 2\n",
            "Enter first item price: 50\n",
            "Enter first item discount: 5\n",
            "Enter second item name: cold drink\n",
            "Enter second item quantity: 2\n",
            "Enter second item price: 100\n",
            "Enter second item discount: 5\n",
            "Enter third item name: burger\n",
            "Enter third item quantity: 5\n",
            "Enter third item price: 20\n",
            "Enter third item discount: 5\n",
            "Enter fourth item name: noodel\n",
            "Enter fourth item quantity: 5\n",
            "Enter fourth item price: 100\n",
            "Enter fourth item discount: 5\n",
            "\n",
            "----- BILLING DETAILS -----\n",
            "First item name:  pizza\n",
            "First item quantity:  2\n",
            "First item price:  50\n",
            "First item discount:  5\n",
            "Second item name:  cold drink\n",
            "Second item quantity:  2\n",
            "Second item price:  100\n",
            "Second item discount:  5\n",
            "Third item name:  burger\n",
            "Third item quantity:  5\n",
            "Third item price:  20\n",
            "Third item discount:  5\n",
            "Fourth item name:  noodel\n",
            "Fourth item quantity:  5\n",
            "Fourth item price:  100\n",
            "Fourth item discount:  5\n",
            "\n",
            "Total amount:  900\n",
            "Total discount:  20\n",
            "Final price:  880\n"
          ]
        }
      ],
      "source": [
        "print(\"Billing System\")\n",
        "\n",
        "# First item\n",
        "first_item_name = input(\"Enter first item name: \")\n",
        "first_item_quantity = int(input(\"Enter first item quantity: \"))\n",
        "first_item_price = int(input(\"Enter first item price: \"))\n",
        "first_item_discount = int(input(\"Enter first item discount: \"))\n",
        "\n",
        "# Second item\n",
        "second_item_name = input(\"Enter second item name: \")\n",
        "second_item_quantity = int(input(\"Enter second item quantity: \"))\n",
        "second_item_price = int(input(\"Enter second item price: \"))\n",
        "second_item_discount = int(input(\"Enter second item discount: \"))\n",
        "\n",
        "# Third item\n",
        "third_item_name = input(\"Enter third item name: \")\n",
        "third_item_quantity = int(input(\"Enter third item quantity: \"))\n",
        "third_item_price = int(input(\"Enter third item price: \"))\n",
        "third_item_discount = int(input(\"Enter third item discount: \"))\n",
        "\n",
        "# Fourth item\n",
        "fourth_item_name = input(\"Enter fourth item name: \")\n",
        "fourth_item_quantity = int(input(\"Enter fourth item quantity: \"))\n",
        "fourth_item_price = int(input(\"Enter fourth item price: \"))\n",
        "fourth_item_discount = int(input(\"Enter fourth item discount: \"))\n",
        "\n",
        "# Calculate total amount (without discount)\n",
        "total_amount = (first_item_quantity * first_item_price) + \\\n",
        "               (second_item_quantity * second_item_price) + \\\n",
        "               (third_item_quantity * third_item_price) + \\\n",
        "               (fourth_item_quantity * fourth_item_price)\n",
        "\n",
        "# Total discount (adding all item discounts)\n",
        "total_discount = first_item_discount + second_item_discount + third_item_discount + fourth_item_discount\n",
        "\n",
        "# Final price after discount\n",
        "final_price = total_amount - total_discount\n",
        "\n",
        "# Print bill\n",
        "print(\"\\n----- BILLING DETAILS -----\")\n",
        "print(\"First item name: \", first_item_name)\n",
        "print(\"First item quantity: \", first_item_quantity)\n",
        "print(\"First item price: \", first_item_price)\n",
        "print(\"First item discount: \", first_item_discount)\n",
        "\n",
        "print(\"Second item name: \", second_item_name)\n",
        "print(\"Second item quantity: \", second_item_quantity)\n",
        "print(\"Second item price: \", second_item_price)\n",
        "print(\"Second item discount: \", second_item_discount)\n",
        "\n",
        "print(\"Third item name: \", third_item_name)\n",
        "print(\"Third item quantity: \", third_item_quantity)\n",
        "print(\"Third item price: \", third_item_price)\n",
        "print(\"Third item discount: \", third_item_discount)\n",
        "\n",
        "print(\"Fourth item name: \", fourth_item_name)\n",
        "print(\"Fourth item quantity: \", fourth_item_quantity)\n",
        "print(\"Fourth item price: \", fourth_item_price)\n",
        "print(\"Fourth item discount: \", fourth_item_discount)\n",
        "\n",
        "print(\"\\nTotal amount: \", total_amount)\n",
        "print(\"Total discount: \", total_discount)\n",
        "print(\"Final price: \", final_price)\n"
      ]
    }
  ]
}