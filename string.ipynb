{
  "nbformat": 4,
  "nbformat_minor": 0,
  "metadata": {
    "colab": {
      "provenance": [],
      "authorship_tag": "ABX9TyPqzzNNckCvcX4RKErx8ybc",
      "include_colab_link": true
    },
    "kernelspec": {
      "name": "python3",
      "display_name": "Python 3"
    },
    "language_info": {
      "name": "python"
    }
  },
  "cells": [
    {
      "cell_type": "markdown",
      "metadata": {
        "id": "view-in-github",
        "colab_type": "text"
      },
      "source": [
        "<a href=\"https://colab.research.google.com/github/gashishkumar2201-collab/Python-class/blob/main/string.ipynb\" target=\"_parent\"><img src=\"https://colab.research.google.com/assets/colab-badge.svg\" alt=\"Open In Colab\"/></a>"
      ]
    },
    {
      "cell_type": "code",
      "execution_count": 3,
      "metadata": {
        "colab": {
          "base_uri": "https://localhost:8080/"
        },
        "id": "m5yKe3__KSd0",
        "outputId": "cefce37c-ff6b-4824-9a30-64347a3e1595"
      },
      "outputs": [
        {
          "output_type": "stream",
          "name": "stdout",
          "text": [
            "enter a name mom\n",
            "palandrone\n"
          ]
        }
      ],
      "source": [
        "a=input(\"enter a name \")\n",
        "b=a[::-1]\n",
        "if a==b:\n",
        "  print(\"palandrone\")\n",
        "else:\n",
        "  print(\"kkk\")"
      ]
    },
    {
      "cell_type": "code",
      "source": [
        "a=input(\"enter a name \")\n",
        "b=a[::-1]\n",
        "if a==b:\n",
        "  print(\"palandrone\")\n",
        "else:\n",
        "  print(\"kkk\")\n",
        "a=int(a)\n",
        "m=int(a+521)\n",
        "print(m)"
      ],
      "metadata": {
        "colab": {
          "base_uri": "https://localhost:8080/"
        },
        "id": "b_RT7of8KncU",
        "outputId": "2d18cab2-c04e-4456-e5da-a8f6204cf8d9"
      },
      "execution_count": 4,
      "outputs": [
        {
          "output_type": "stream",
          "name": "stdout",
          "text": [
            "enter a name 12321\n",
            "palandrone\n",
            "12842\n"
          ]
        }
      ]
    },
    {
      "cell_type": "code",
      "source": [
        "state=\"chandigarh\"\n",
        "print(state[-5:-2])"
      ],
      "metadata": {
        "colab": {
          "base_uri": "https://localhost:8080/"
        },
        "id": "lLuy6XIXLIuk",
        "outputId": "13d517c0-3459-4b95-d1ac-6f17d8866cce"
      },
      "execution_count": 5,
      "outputs": [
        {
          "output_type": "stream",
          "name": "stdout",
          "text": [
            "iga\n"
          ]
        }
      ]
    }
  ]
}