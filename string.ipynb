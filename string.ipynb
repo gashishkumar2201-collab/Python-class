{
  "nbformat": 4,
  "nbformat_minor": 0,
  "metadata": {
    "colab": {
      "provenance": [],
      "authorship_tag": "ABX9TyMAzI0cgFFUQK1vlgs8xz/w",
      "include_colab_link": true
    },
    "kernelspec": {
      "name": "python3",
      "display_name": "Python 3"
    },
    "language_info": {
      "name": "python"
    }
  },
  "cells": [
    {
      "cell_type": "markdown",
      "metadata": {
        "id": "view-in-github",
        "colab_type": "text"
      },
      "source": [
        "<a href=\"https://colab.research.google.com/github/gashishkumar2201-collab/Python-class/blob/main/string.ipynb\" target=\"_parent\"><img src=\"https://colab.research.google.com/assets/colab-badge.svg\" alt=\"Open In Colab\"/></a>"
      ]
    },
    {
      "cell_type": "code",
      "source": [
        "#string\n",
        "name=(\"ashish\")\n",
        "name2=(\"  kumar\")\n",
        "print(name+ name2)"
      ],
      "metadata": {
        "colab": {
          "base_uri": "https://localhost:8080/"
        },
        "id": "yM1V_EpzMtqa",
        "outputId": "94b57b85-b5a4-45e2-d7b9-4f456a609551"
      },
      "execution_count": null,
      "outputs": [
        {
          "output_type": "stream",
          "name": "stdout",
          "text": [
            "ashish  kumar\n"
          ]
        }
      ]
    },
    {
      "cell_type": "code",
      "source": [
        "state =\"punjab\"\n",
        "print(state[1])"
      ],
      "metadata": {
        "colab": {
          "base_uri": "https://localhost:8080/"
        },
        "id": "TWzAnSGiMzvS",
        "outputId": "cc190b7f-f3a5-4955-cfeb-42187324a38d"
      },
      "execution_count": null,
      "outputs": [
        {
          "output_type": "stream",
          "name": "stdout",
          "text": [
            "u\n"
          ]
        }
      ]
    },
    {
      "cell_type": "code",
      "source": [
        "state=\"punjanb\"\n",
        "for i in state:\n",
        "  print(i)\n"
      ],
      "metadata": {
        "colab": {
          "base_uri": "https://localhost:8080/"
        },
        "id": "SAgqzIl_NAeN",
        "outputId": "73f9d08c-25b3-4e21-f2ae-cc71ff48d476"
      },
      "execution_count": null,
      "outputs": [
        {
          "output_type": "stream",
          "name": "stdout",
          "text": [
            "p\n",
            "u\n",
            "n\n",
            "j\n",
            "a\n",
            "n\n",
            "b\n"
          ]
        }
      ]
    },
    {
      "cell_type": "code",
      "source": [
        "state=\"   ashish    \"\n",
        "print(state.strip())"
      ],
      "metadata": {
        "colab": {
          "base_uri": "https://localhost:8080/"
        },
        "id": "RwGRMTP5NDIa",
        "outputId": "e612be2f-9a31-4a0e-90b5-a98cba5564a1"
      },
      "execution_count": null,
      "outputs": [
        {
          "output_type": "stream",
          "name": "stdout",
          "text": [
            "ashish\n"
          ]
        }
      ]
    },
    {
      "cell_type": "code",
      "source": [
        "state=\"punjab\"\n",
        "print(state.startswith(\"pu\"))\n",
        "print(state.endswith(\"b\"))\n"
      ],
      "metadata": {
        "colab": {
          "base_uri": "https://localhost:8080/"
        },
        "id": "jWsO36JUNDmX",
        "outputId": "014320c5-c73b-4e1b-8f16-4408658e0721"
      },
      "execution_count": null,
      "outputs": [
        {
          "output_type": "stream",
          "name": "stdout",
          "text": [
            "True\n",
            "True\n"
          ]
        }
      ]
    },
    {
      "cell_type": "code",
      "source": [
        "state=\"p u n j a b\"\n",
        "print(state.replace(\" \",\"\"))"
      ],
      "metadata": {
        "id": "9NnAYH4iNWVk",
        "colab": {
          "base_uri": "https://localhost:8080/"
        },
        "outputId": "593e9e32-09a0-4490-8bea-7da96e7f8dd3"
      },
      "execution_count": 1,
      "outputs": [
        {
          "output_type": "stream",
          "name": "stdout",
          "text": [
            "punjab\n"
          ]
        }
      ]
    },
    {
      "cell_type": "code",
      "source": [
        "state=\"punjab\"\n",
        "print(state.lower())\n",
        "print(state.upper())"
      ],
      "metadata": {
        "colab": {
          "base_uri": "https://localhost:8080/"
        },
        "id": "CndMB7UbFy68",
        "outputId": "cf34e7a4-44f1-41dc-8235-8e8739c15d92"
      },
      "execution_count": 2,
      "outputs": [
        {
          "output_type": "stream",
          "name": "stdout",
          "text": [
            "punjab\n",
            "PUNJAB\n"
          ]
        }
      ]
    },
    {
      "cell_type": "code",
      "source": [
        "state =\"punjab\"\n",
        "print(state[0:4])"
      ],
      "metadata": {
        "colab": {
          "base_uri": "https://localhost:8080/"
        },
        "id": "T5u3RA1AF5K_",
        "outputId": "85239290-aa0d-406a-f04f-9cb15ae3ebe9"
      },
      "execution_count": 3,
      "outputs": [
        {
          "output_type": "stream",
          "name": "stdout",
          "text": [
            "punj\n"
          ]
        }
      ]
    },
    {
      "cell_type": "code",
      "source": [
        "state =\"punjab\"\n",
        "print(state[0:4:3])"
      ],
      "metadata": {
        "colab": {
          "base_uri": "https://localhost:8080/"
        },
        "id": "EVOMmtKPF5yv",
        "outputId": "3d36606b-2aca-4026-b701-66632219c4fd"
      },
      "execution_count": 4,
      "outputs": [
        {
          "output_type": "stream",
          "name": "stdout",
          "text": [
            "pj\n"
          ]
        }
      ]
    },
    {
      "cell_type": "code",
      "source": [
        "state =\"punjab\"\n",
        "print(state[0:4])\n",
        "print(state[-2])\n",
        "print(state[::-1])"
      ],
      "metadata": {
        "colab": {
          "base_uri": "https://localhost:8080/"
        },
        "id": "gGoJS6d-GJsm",
        "outputId": "743372b4-9cc8-43ac-9a3a-9e2cbbe38627"
      },
      "execution_count": 5,
      "outputs": [
        {
          "output_type": "stream",
          "name": "stdout",
          "text": [
            "punj\n",
            "a\n",
            "bajnup\n"
          ]
        }
      ]
    },
    {
      "cell_type": "code",
      "source": [
        "state=\"punjab\"\n",
        "if \"a\" in state:\n",
        "  print(\"aveleble\")\n",
        "else:\n",
        "  print(\"not aveleble\")"
      ],
      "metadata": {
        "colab": {
          "base_uri": "https://localhost:8080/"
        },
        "id": "S7ag9jetM7on",
        "outputId": "50374729-cad0-4090-f70e-c1ce893ca195"
      },
      "execution_count": null,
      "outputs": [
        {
          "output_type": "stream",
          "name": "stdout",
          "text": [
            "aveleble\n"
          ]
        }
      ]
    },
    {
      "cell_type": "code",
      "execution_count": null,
      "metadata": {
        "colab": {
          "base_uri": "https://localhost:8080/"
        },
        "id": "m5yKe3__KSd0",
        "outputId": "cefce37c-ff6b-4824-9a30-64347a3e1595"
      },
      "outputs": [
        {
          "output_type": "stream",
          "name": "stdout",
          "text": [
            "enter a name mom\n",
            "palandrone\n"
          ]
        }
      ],
      "source": [
        "a=input(\"enter a name \")\n",
        "b=a[::-1]\n",
        "if a==b:\n",
        "  print(\"palandrone\")\n",
        "else:\n",
        "  print(\"kkk\")"
      ]
    },
    {
      "cell_type": "code",
      "source": [
        "a=input(\"enter a name \")\n",
        "b=a[::-1]\n",
        "if a==b:\n",
        "  print(\"palandrone\")\n",
        "else:\n",
        "  print(\"kkk\")\n",
        "a=int(a)\n",
        "m=int(a+521)\n",
        "print(m)"
      ],
      "metadata": {
        "colab": {
          "base_uri": "https://localhost:8080/"
        },
        "id": "b_RT7of8KncU",
        "outputId": "2d18cab2-c04e-4456-e5da-a8f6204cf8d9"
      },
      "execution_count": null,
      "outputs": [
        {
          "output_type": "stream",
          "name": "stdout",
          "text": [
            "enter a name 12321\n",
            "palandrone\n",
            "12842\n"
          ]
        }
      ]
    },
    {
      "cell_type": "code",
      "source": [
        "state=\"chandigarh\"\n",
        "print(state[-5:-2])"
      ],
      "metadata": {
        "colab": {
          "base_uri": "https://localhost:8080/"
        },
        "id": "lLuy6XIXLIuk",
        "outputId": "13d517c0-3459-4b95-d1ac-6f17d8866cce"
      },
      "execution_count": null,
      "outputs": [
        {
          "output_type": "stream",
          "name": "stdout",
          "text": [
            "iga\n"
          ]
        }
      ]
    },
    {
      "cell_type": "code",
      "source": [],
      "metadata": {
        "id": "OIXAaOF1Lle_"
      },
      "execution_count": null,
      "outputs": []
    }
  ]
}