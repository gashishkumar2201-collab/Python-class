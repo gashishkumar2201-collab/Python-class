{
  "nbformat": 4,
  "nbformat_minor": 0,
  "metadata": {
    "colab": {
      "provenance": [],
      "authorship_tag": "ABX9TyM8N+ejxUM2t/DpIk0u2rGC",
      "include_colab_link": true
    },
    "kernelspec": {
      "name": "python3",
      "display_name": "Python 3"
    },
    "language_info": {
      "name": "python"
    }
  },
  "cells": [
    {
      "cell_type": "markdown",
      "metadata": {
        "id": "view-in-github",
        "colab_type": "text"
      },
      "source": [
        "<a href=\"https://colab.research.google.com/github/gashishkumar2201-collab/Python-class/blob/main/Untitled2.ipynb\" target=\"_parent\"><img src=\"https://colab.research.google.com/assets/colab-badge.svg\" alt=\"Open In Colab\"/></a>"
      ]
    },
    {
      "cell_type": "code",
      "execution_count": null,
      "metadata": {
        "id": "me7-P8HDG7fw"
      },
      "outputs": [],
      "source": [
        "a=23\n",
        "b=43\n",
        "c=a+b"
      ]
    },
    {
      "cell_type": "code",
      "source": [
        "print(\"billing system\")\n",
        "first_item_name=input(\"enter first item name:  \")\n",
        "first_item_quantity=int(input(\"enter first item quantity:  \"))\n",
        "first_item_price=int(input(\"enter first item price:  \"))\n",
        "first_item_discount=int(input(\"enter first item discount:  \"))\n",
        "second_item_name=input(\"enter second item name:  \")\n",
        "second_item_quantity=int(input(\"enter second item quantity:  \"))\n",
        "second_item_price=int(input(\"enter second item price:  \"))\n",
        "second_item_discount=int(input(\"enter second item discount:  \"))\n",
        "third_item_name=input(\"enter third item name:  \")\n",
        "third_item_quantity=int(input(\"enter third item quantity:  \"))\n",
        "third_item_price=int(input(\"enter third item price:  \"))\n",
        "third_item_discount=int(input(\"enter third item discount:  \"))\n",
        "fourth_item_name=input(\"enter fourth item name:  \")\n",
        "fourth_item_quantity=int(input(\"enter fourth item quantity:  \"))\n",
        "fourth_item_price=int(input(\"enter fourth item price:  \"))\n",
        "fourth_item_discount=int(input(\"enter fourth item discount:  \"))\n",
        "total_amount = first_item_price*first_item_quantity+second_item_price*second_item_quantity+third_item_price*third_item_quantity+fourth_item_price*fourth_item_quantity\n",
        "discount_1 =first_item_discount*first_item_price*first_item_quantity/100\n",
        "discount_2 =second_item_discount*second_item_price*second_item_quantity/100\n",
        "discount_3 =third_item_discount*third_item_price*third_item_quantity/100\n",
        "discount_4 =fourth_item_discount*fourth_item_price*fourth_item_quantity/100\n",
        "total_discount=discount_1+discount_2+discount_3+discount_4\n",
        "final_price = total_amount-total_discount\n",
        "print(\"first item name:  \",first_item_name)\n",
        "print(\"first item quantity:  \",first_item_quantity)\n",
        "print(\"first item price:  \",first_item_price)\n",
        "print(\"first item discount:  \",first_item_discount)\n",
        "print(\"second item name:  \",second_item_name)\n",
        "print(\"second item quantity:  \",second_item_quantity)\n",
        "print(\"second item price:  \",second_item_price)\n",
        "print(\"second item discount:  \",second_item_discount)\n",
        "print(\"third item name:  \",third_item_name)\n",
        "print(\"third item quantity:  \",third_item_quantity)\n",
        "print(\"third item price:  \",third_item_price)\n",
        "print(\"third item discount:  \",third_item_discount)\n",
        "print(\"fourth item name:  \",fourth_item_name)\n",
        "print(\"fourth item quantity:  \",fourth_item_quantity)\n",
        "print(\"fourth item price:  \",fourth_item_price)\n",
        "print(\"fourth_item_discount:  \",fourth_item_discount)\n",
        "print(\"total amount:  \",total_amount)\n",
        "print(\"total discount:  \",total_discount)\n",
        "print(\"final price:  \",final_price)"
      ],
      "metadata": {
        "colab": {
          "base_uri": "https://localhost:8080/"
        },
        "id": "cBecdYgV4xGg",
        "outputId": "c3db7aa7-7be3-4107-fe43-1bf0218db5cd"
      },
      "execution_count": 7,
      "outputs": [
        {
          "output_type": "stream",
          "name": "stdout",
          "text": [
            "billing system\n",
            "enter first item name:  pizza\n",
            "enter first item quantity:  5\n",
            "enter first item price:  500\n",
            "enter first item discount:  5\n",
            "enter second item name:  pasta\n",
            "enter second item quantity:  5\n",
            "enter second item price:  100\n",
            "enter second item discount:  5\n",
            "enter third item name:  burger\n",
            "enter third item quantity:  5\n",
            "enter third item price:  60\n",
            "enter third item discount:  5\n",
            "enter fourth item name:  egg roll\n",
            "enter fourth item quantity:  10\n",
            "enter fourth item price:  100\n",
            "enter fourth item discount:  5\n",
            "first item name:   pizza\n",
            "first item quantity:   5\n",
            "first item price:   500\n",
            "first item discount:   5\n",
            "second item name:   pasta\n",
            "second item quantity:   5\n",
            "second item price:   100\n",
            "second item discount:   5\n",
            "third item name:   burger\n",
            "third item quantity:   5\n",
            "third item price:   60\n",
            "third item discount:   5\n",
            "fourth item name:   egg roll\n",
            "fourth item quantity:   10\n",
            "fourth item price:   100\n",
            "fourth_item_discount:   5\n",
            "total amount:   4300\n",
            "total discount:   215.0\n",
            "final price:   4085.0\n"
          ]
        }
      ]
    },
    {
      "cell_type": "code",
      "source": [
        "num=123456\n",
        "sum = 0\n",
        "while(num>0):\n",
        "  dig = num%10\n",
        "  sum= sum*10 +dig\n",
        "  num= num//10\n",
        "print (sum)"
      ],
      "metadata": {
        "colab": {
          "base_uri": "https://localhost:8080/"
        },
        "id": "V0tXo_WWDtl4",
        "outputId": "fe7f31ad-4e0f-44b0-cf73-e2f9de621e65"
      },
      "execution_count": null,
      "outputs": [
        {
          "output_type": "stream",
          "name": "stdout",
          "text": [
            "654321\n"
          ]
        }
      ]
    }
  ]
}