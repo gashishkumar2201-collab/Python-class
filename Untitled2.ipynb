{
  "nbformat": 4,
  "nbformat_minor": 0,
  "metadata": {
    "colab": {
      "provenance": [],
      "authorship_tag": "ABX9TyNBENRkgCQOLZyuiq3CrQx1",
      "include_colab_link": true
    },
    "kernelspec": {
      "name": "python3",
      "display_name": "Python 3"
    },
    "language_info": {
      "name": "python"
    }
  },
  "cells": [
    {
      "cell_type": "markdown",
      "metadata": {
        "id": "view-in-github",
        "colab_type": "text"
      },
      "source": [
        "<a href=\"https://colab.research.google.com/github/gashishkumar2201-collab/Python-class/blob/main/Untitled2.ipynb\" target=\"_parent\"><img src=\"https://colab.research.google.com/assets/colab-badge.svg\" alt=\"Open In Colab\"/></a>"
      ]
    },
    {
      "cell_type": "code",
      "execution_count": null,
      "metadata": {
        "id": "me7-P8HDG7fw"
      },
      "outputs": [],
      "source": [
        "a=23\n",
        "b=43\n",
        "c=a+b"
      ]
    },
    {
      "cell_type": "code",
      "source": [
        "print(\"billing system\")\n",
        "first_item_name=input(\"enter first item name:  \")\n",
        "first_item_quantity=int(input(\"enter first item quantity:  \"))\n",
        "first_item_price=int(input(\"enter first item price:  \"))\n",
        "first_item_discount=int(input(\"enter first item discount:  \"))\n",
        "second_item_name=input(\"enter second item name:  \")\n",
        "second_item_quantity=int(input(\"enter second item quantity:  \"))\n",
        "second_item_price=int(input(\"enter second item price:  \"))\n",
        "second_item_discount=int(input(\"enter second item discount:  \"))\n",
        "third_item_name=input(\"enter third item name:  \")\n",
        "third_item_quantity=int(input(\"enter third item quantity:  \"))\n",
        "third_item_price=int(input(\"enter third item price:  \"))\n",
        "third_item_discount=int(input(\"enter third item discount:  \"))\n",
        "fourth_item_name=input(\"enter fourth item name:  \")\n",
        "fourth_item_quantity=int(input(\"enter fourth item quantity:  \"))\n",
        "fourth_item_price=int(input(\"enter fourth item price:  \"))\n",
        "fourth_item_discount=int(input(\"enter fourth item discount:  \"))\n",
        "total_amount = first_item_price+second_item_price+third_item_price+fourth_item_price\n",
        "discount_1 =first_item_discount*first_item_price/100\n",
        "discount_2 =second_item_discount*second_item_price/100\n",
        "third_item_discount*third_item_price/100+fourth_item_discount*fourth_item_price/100\n",
        "total_discount=first_item_discount+second_item_discount+third_item_discount+third_item_discount\n",
        "final_price = total_amount -total_discount\n",
        "print(\"first item name:  \",first_item_name)\n",
        "print(\"first item quantity:  \",first_item_quantity)\n",
        "print(\"first item price:  \",first_item_price)\n",
        "print(\"first item discount:  \",first_item_dicount)\n",
        "print(\"second item name:  \",second_item_name)\n",
        "print(\"second item quantity:  \",second_item_quantity)\n",
        "print(\"second item price:  \",second_item_price)\n",
        "print(\"second item discount:  \",second_item_dicount)\n",
        "print(\"third item name:  \",third_item_name)\n",
        "print(\"third item quantity:  \",third_item_quantity)\n",
        "print(\"third item price:  \",third_item_price)\n",
        "print(\"third item discount:  \",third_item_dicount)\n",
        "print(\"fourth item name:  \",fourth_item_name)\n",
        "print(\"fourth item quantity:  \",fourth_item_quantity)\n",
        "print(\"fourth item price:  \",fourth_item_price)\n",
        "print(\"fourth item discount:  \",fourth_item_dicount)\n",
        "print(\"total amount:  \",total_amount)\n",
        "print(\"dicount:  \",discount)\n",
        "print(\"total discount:  \",total_discount)\n",
        "print(\"final price:  \",final_price)"
      ],
      "metadata": {
        "colab": {
          "base_uri": "https://localhost:8080/",
          "height": 584
        },
        "id": "cBecdYgV4xGg",
        "outputId": "354e8744-d734-4e41-ac6c-dae8d30a2fa0"
      },
      "execution_count": 1,
      "outputs": [
        {
          "output_type": "stream",
          "name": "stdout",
          "text": [
            "billing system\n",
            "enter first item name:  burger\n",
            "enter first item quantity:  5\n",
            "enter first item price:  50\n",
            "enter first item discount:  5\n",
            "enter second item name:  pizza\n",
            "enter second item quantity:  5\n",
            "enter second item price:  100\n",
            "enter second item discount:  5\n",
            "enter third item name:  pasta\n",
            "enter third item quantity:  5\n",
            "enter third item price:  200\n",
            "enter third item discount:  5\n",
            "enter fourth item name:  cold drink\n",
            "enter fourth item quantity:  5\n",
            "enter fourth item price:  50\n",
            "enter fourth item discount:  5\n",
            "first item name:   burger\n",
            "first item quantity:   5\n",
            "first item price:   50\n"
          ]
        },
        {
          "output_type": "error",
          "ename": "NameError",
          "evalue": "name 'first_item_dicount' is not defined",
          "traceback": [
            "\u001b[0;31m---------------------------------------------------------------------------\u001b[0m",
            "\u001b[0;31mNameError\u001b[0m                                 Traceback (most recent call last)",
            "\u001b[0;32m/tmp/ipython-input-2284594921.py\u001b[0m in \u001b[0;36m<cell line: 0>\u001b[0;34m()\u001b[0m\n\u001b[1;32m     23\u001b[0m \u001b[0mprint\u001b[0m\u001b[0;34m(\u001b[0m\u001b[0;34m\"first item quantity:  \"\u001b[0m\u001b[0;34m,\u001b[0m\u001b[0mfirst_item_quantity\u001b[0m\u001b[0;34m)\u001b[0m\u001b[0;34m\u001b[0m\u001b[0;34m\u001b[0m\u001b[0m\n\u001b[1;32m     24\u001b[0m \u001b[0mprint\u001b[0m\u001b[0;34m(\u001b[0m\u001b[0;34m\"first item price:  \"\u001b[0m\u001b[0;34m,\u001b[0m\u001b[0mfirst_item_price\u001b[0m\u001b[0;34m)\u001b[0m\u001b[0;34m\u001b[0m\u001b[0;34m\u001b[0m\u001b[0m\n\u001b[0;32m---> 25\u001b[0;31m \u001b[0mprint\u001b[0m\u001b[0;34m(\u001b[0m\u001b[0;34m\"first item discount:  \"\u001b[0m\u001b[0;34m,\u001b[0m\u001b[0mfirst_item_dicount\u001b[0m\u001b[0;34m)\u001b[0m\u001b[0;34m\u001b[0m\u001b[0;34m\u001b[0m\u001b[0m\n\u001b[0m\u001b[1;32m     26\u001b[0m \u001b[0mprint\u001b[0m\u001b[0;34m(\u001b[0m\u001b[0;34m\"second item name:  \"\u001b[0m\u001b[0;34m,\u001b[0m\u001b[0msecond_item_name\u001b[0m\u001b[0;34m)\u001b[0m\u001b[0;34m\u001b[0m\u001b[0;34m\u001b[0m\u001b[0m\n\u001b[1;32m     27\u001b[0m \u001b[0mprint\u001b[0m\u001b[0;34m(\u001b[0m\u001b[0;34m\"second item quantity:  \"\u001b[0m\u001b[0;34m,\u001b[0m\u001b[0msecond_item_quantity\u001b[0m\u001b[0;34m)\u001b[0m\u001b[0;34m\u001b[0m\u001b[0;34m\u001b[0m\u001b[0m\n",
            "\u001b[0;31mNameError\u001b[0m: name 'first_item_dicount' is not defined"
          ]
        }
      ]
    },
    {
      "cell_type": "code",
      "source": [
        "num=123456\n",
        "sum = 0\n",
        "while(num>0):\n",
        "  dig = num%10\n",
        "  sum= sum*10 +dig\n",
        "  num= num//10\n",
        "print (sum)"
      ],
      "metadata": {
        "colab": {
          "base_uri": "https://localhost:8080/"
        },
        "id": "V0tXo_WWDtl4",
        "outputId": "fe7f31ad-4e0f-44b0-cf73-e2f9de621e65"
      },
      "execution_count": 1,
      "outputs": [
        {
          "output_type": "stream",
          "name": "stdout",
          "text": [
            "654321\n"
          ]
        }
      ]
    }
  ]
}