{
  "nbformat": 4,
  "nbformat_minor": 0,
  "metadata": {
    "colab": {
      "provenance": [],
      "authorship_tag": "ABX9TyOV2fMCOtBfEa6eVo86jQ0r",
      "include_colab_link": true
    },
    "kernelspec": {
      "name": "python3",
      "display_name": "Python 3"
    },
    "language_info": {
      "name": "python"
    }
  },
  "cells": [
    {
      "cell_type": "markdown",
      "metadata": {
        "id": "view-in-github",
        "colab_type": "text"
      },
      "source": [
        "<a href=\"https://colab.research.google.com/github/gashishkumar2201-collab/Python-class/blob/main/list_billing_system.ipynb\" target=\"_parent\"><img src=\"https://colab.research.google.com/assets/colab-badge.svg\" alt=\"Open In Colab\"/></a>"
      ]
    },
    {
      "cell_type": "code",
      "source": [
        "#list\n",
        "n=2\n",
        "items=[]\n",
        "prices=[]\n",
        "total_bill=0\n",
        "total_discount=0\n",
        "discount_percents=[]\n",
        "\n",
        "\n",
        "for i in range(n):\n",
        "  item=input(f\"enter item name{i+1}:  \",)\n",
        "  items.append(item)\n",
        "  price=int(input(f\"enter the item price{i+1}:  \",))\n",
        "  prices.append(price)\n",
        "  discount_percent=int(input(f\"enter discount percent{i+1}:  \",))\n",
        "  discount_percents.append(discount_percent)\n",
        "  total_bill=total_bill+price\n",
        "  total_discount=total_discount+(price*discount_percent/100)\n",
        "last_discount=int(input(\"enter last discount:  \"))\n",
        "cupon_codes=input(\"enter cupon codes:  \")\n",
        "if cupon_codes==\"off10\":\n",
        "  code_discount_percents=10\n",
        "else:\n",
        "  code_discount_percents=0\n",
        "payble_bill=total_bill-total_discount\n",
        "last_amount=payble_bill*last_discount/100\n",
        "payble_amount=payble_bill-last_amount\n",
        "code_discount_percent=payble_amount*code_discount_percents/100\n",
        "final_amount=payble_amount-code_discount_percent\n",
        "print(\"total discount:\",total_discount)\n",
        "print(\"payble bill:\",payble_bill)\n",
        "print(\"last amount:\",last_amount)\n",
        "print(\"payble amount:\",payble_amount)\n",
        "print(\"code discount percent:\",code_discount_percent)\n",
        "print(\"final amount:\",final_amount)\n"
      ],
      "metadata": {
        "colab": {
          "base_uri": "https://localhost:8080/"
        },
        "id": "DiSoCtbSux8_",
        "outputId": "48ac011d-80ae-4556-f2f1-0e9a351f19a1"
      },
      "execution_count": null,
      "outputs": [
        {
          "output_type": "stream",
          "name": "stdout",
          "text": [
            "enter item name1:  pizza\n",
            "enter the item price1:  2000\n",
            "enter discount percent1:  20\n",
            "enter item name2:  pasta\n",
            "enter the item price2:  2000\n",
            "enter discount percent2:  20\n",
            "enter last discount:  20\n",
            "enter cupon codes:  off10\n",
            "total discount: 800.0\n",
            "payble bill: 3200.0\n",
            "last amount: 640.0\n",
            "payble amount: 2560.0\n",
            "code discount percent: 256.0\n",
            "final amount: 2304.0\n"
          ]
        }
      ]
    },
    {
      "cell_type": "code",
      "source": [
        "#list\n",
        "n=2\n",
        "items=[]\n",
        "prices=[]\n",
        "total_bill=0\n",
        "total_discount=0\n",
        "discount_percents=[]\n",
        "discound_code=[\"off10\",\"off20\",\"0ff30\",\"off50\"]\n",
        "percent_discount=[10,20,30,50]\n",
        "\n",
        "\n",
        "for i in range(n):\n",
        "  item=input(f\"enter item name{i+1}:  \",)\n",
        "  items.append(item)\n",
        "  price=int(input(f\"enter the item price{i+1}:  \",))\n",
        "  prices.append(price)\n",
        "  discount_percent=int(input(f\"enter discount percent{i+1}:  \",))\n",
        "  discount_percents.append(discount_percent)\n",
        "  total_bill=total_bill+price\n",
        "  total_discount=total_discount+(price*discount_percent/100)\n",
        "last_discount=int(input(\"enter last discount:  \"))\n",
        "cupon_codes=input(\"enter cupon codes:  \")\n",
        "if cupon_codes in discound_code:\n",
        "  index=discound_code.index(cupon_codes)\n",
        "else:\n",
        "  discount=0\n",
        "\n",
        "payble_bill=total_bill-total_discount\n",
        "last_amount=payble_bill*last_discount/100\n",
        "payble_amount=payble_bill-last_amount\n",
        "code_discount_percent=payble_amount*code_discount_percents/100\n",
        "discount_on_coupon = final_amount * percent_discount[index]/100\n",
        "final_amount=payble_amount-discount_on_coupon\n",
        "print(\"total discount:\",total_discount)\n",
        "print(\"payble bill:\",payble_bill)\n",
        "print(\"last amount:\",last_amount)\n",
        "print(\"payble amount:\",payble_amount)\n",
        "print(\"discount on coupon:\",discount_on_coupon)\n",
        "print(\"final amount:\",final_amount)\n"
      ],
      "metadata": {
        "colab": {
          "base_uri": "https://localhost:8080/"
        },
        "id": "Uc3RR5Se01ZV",
        "outputId": "206b1d89-9cfd-4e69-bd92-469732396093"
      },
      "execution_count": null,
      "outputs": [
        {
          "output_type": "stream",
          "name": "stdout",
          "text": [
            "enter item name1:  pizza\n",
            "enter the item price1:  2000\n",
            "enter discount percent1:  20\n",
            "enter item name2:  pasta\n",
            "enter the item price2:  2000\n",
            "enter discount percent2:  20\n",
            "enter last discount:  20\n",
            "enter cupon codes:  off10\n",
            "total discount: 800.0\n",
            "payble bill: 3200.0\n",
            "last amount: 640.0\n",
            "payble amount: 2560.0\n",
            "discount on coupon: 230.4\n",
            "final amount: 2329.6\n"
          ]
        }
      ]
    },
    {
      "cell_type": "code",
      "source": [
        "#list\n",
        "discound_code=[\"off10\",\"off20\",\"off30\",\"off50\"]\n",
        "percent_discound=[10,20,30,50]\n",
        "index=discound_code.index(\"off10\")\n",
        "x=percent_discound[0]\n",
        "print(index)\n",
        "print(x)\n"
      ],
      "metadata": {
        "colab": {
          "base_uri": "https://localhost:8080/"
        },
        "id": "ZhoyDCcm4IFe",
        "outputId": "4b804478-6bad-42fd-cc80-e9f6400567b6"
      },
      "execution_count": null,
      "outputs": [
        {
          "output_type": "stream",
          "name": "stdout",
          "text": [
            "0\n",
            "10\n"
          ]
        }
      ]
    },
    {
      "cell_type": "code",
      "source": [
        "name=\"suman\"\n",
        "for char in name:\n",
        "  print(char)"
      ],
      "metadata": {
        "colab": {
          "base_uri": "https://localhost:8080/"
        },
        "id": "GPACYeHj0BgJ",
        "outputId": "dec75a12-e7e5-4049-ac5d-eca8615dfeb4"
      },
      "execution_count": 1,
      "outputs": [
        {
          "output_type": "stream",
          "name": "stdout",
          "text": [
            "s\n",
            "u\n",
            "m\n",
            "a\n",
            "n\n"
          ]
        }
      ]
    },
    {
      "cell_type": "code",
      "source": [
        "name=\"suman\"\n",
        "reverse\n",
        "for char in name:\n",
        "  print(char)"
      ],
      "metadata": {
        "id": "YyP9Kb9IC32W"
      },
      "execution_count": null,
      "outputs": []
    },
    {
      "cell_type": "code",
      "source": [
        "sum_dividible = 0\n",
        "for i in range(0,501):\n",
        "  if i % 5==0 or i % 10==0:\n",
        "    sum_dividible+=i\n",
        "print(sum_dividible)\n",
        ""
      ],
      "metadata": {
        "colab": {
          "base_uri": "https://localhost:8080/"
        },
        "id": "9mesoW7vDFN-",
        "outputId": "9d94a50e-8f56-4f1a-eb52-055d3ab4bfaa"
      },
      "execution_count": 11,
      "outputs": [
        {
          "output_type": "stream",
          "name": "stdout",
          "text": [
            "25250\n"
          ]
        }
      ]
    },
    {
      "cell_type": "code",
      "source": [
        "sum=0\n",
        "for i in range(0,26):\n",
        " if i % 2!=0 and i % 3!=0 and i % 5!=0:\n",
        "  sum=sum+i\n",
        "  print(sum)\n"
      ],
      "metadata": {
        "colab": {
          "base_uri": "https://localhost:8080/"
        },
        "id": "HOa8ZMQ0FWsa",
        "outputId": "b1f43d15-ec33-4891-f7a6-862857ccfa2c"
      },
      "execution_count": 8,
      "outputs": [
        {
          "output_type": "stream",
          "name": "stdout",
          "text": [
            "1\n",
            "8\n",
            "19\n",
            "32\n",
            "49\n",
            "68\n",
            "91\n"
          ]
        }
      ]
    },
    {
      "cell_type": "code",
      "source": [],
      "metadata": {
        "id": "6pGrAxJLGAzC"
      },
      "execution_count": null,
      "outputs": []
    }
  ]
}