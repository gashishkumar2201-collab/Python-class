{
  "nbformat": 4,
  "nbformat_minor": 0,
  "metadata": {
    "colab": {
      "provenance": [],
      "authorship_tag": "ABX9TyNAEc9lm2Oe1nLegqNqm0vj",
      "include_colab_link": true
    },
    "kernelspec": {
      "name": "python3",
      "display_name": "Python 3"
    },
    "language_info": {
      "name": "python"
    }
  },
  "cells": [
    {
      "cell_type": "markdown",
      "metadata": {
        "id": "view-in-github",
        "colab_type": "text"
      },
      "source": [
        "<a href=\"https://colab.research.google.com/github/gashishkumar2201-collab/Python-class/blob/main/def_function.ipynb\" target=\"_parent\"><img src=\"https://colab.research.google.com/assets/colab-badge.svg\" alt=\"Open In Colab\"/></a>"
      ]
    },
    {
      "cell_type": "code",
      "execution_count": null,
      "metadata": {
        "colab": {
          "base_uri": "https://localhost:8080/"
        },
        "id": "YVVOyv_f7AX7",
        "outputId": "e1b5a46b-37c5-4997-f885-f80c31be751c"
      },
      "outputs": [
        {
          "output_type": "stream",
          "name": "stdout",
          "text": [
            "hello every one\n"
          ]
        }
      ],
      "source": [
        "def speak ():\n",
        "  print (\"hello every one\")\n",
        "a= speak()"
      ]
    },
    {
      "cell_type": "code",
      "source": [
        "def add_num(a,b):\n",
        "  return a+b\n",
        "result= add_num(10,12)\n",
        "print(result)"
      ],
      "metadata": {
        "colab": {
          "base_uri": "https://localhost:8080/"
        },
        "id": "rDYZvLKb7vbR",
        "outputId": "feff3b55-b3f4-4593-ad25-7df13ef6f0f7"
      },
      "execution_count": null,
      "outputs": [
        {
          "output_type": "stream",
          "name": "stdout",
          "text": [
            "22\n"
          ]
        }
      ]
    },
    {
      "cell_type": "code",
      "source": [
        "def add_num(a,b):\n",
        "  return a*b\n",
        "result= add_num(10,12)\n",
        "print(result)"
      ],
      "metadata": {
        "colab": {
          "base_uri": "https://localhost:8080/"
        },
        "id": "FXLof4gY70k0",
        "outputId": "4188253d-6a6a-4c28-e319-52924d29d608"
      },
      "execution_count": null,
      "outputs": [
        {
          "output_type": "stream",
          "name": "stdout",
          "text": [
            "120\n"
          ]
        }
      ]
    },
    {
      "cell_type": "code",
      "source": [
        "def add_num(a,b):\n",
        "  return a+b\n",
        "result= add_num(10,12)\n",
        "result_2= add_num(12,10)\n",
        "print(result)\n",
        "print(result_2)"
      ],
      "metadata": {
        "colab": {
          "base_uri": "https://localhost:8080/"
        },
        "id": "d51KeMbX76Ny",
        "outputId": "a77e90c4-7e95-4606-cc3d-fd3cc91c9559"
      },
      "execution_count": null,
      "outputs": [
        {
          "output_type": "stream",
          "name": "stdout",
          "text": [
            "22\n",
            "22\n"
          ]
        }
      ]
    },
    {
      "cell_type": "code",
      "source": [
        "def add_num(n):\n",
        "  fact=1\n",
        "  for i in range (1,n+1):\n",
        "   fact=fact*i\n",
        "  return fact\n",
        "num_a=add_num(10)\n",
        "num_b=add_num(12)\n",
        "print(num_a)\n",
        "print(num_b)"
      ],
      "metadata": {
        "colab": {
          "base_uri": "https://localhost:8080/"
        },
        "id": "FGOyS3Nu8EBl",
        "outputId": "cea53724-1ce7-4a52-e2ab-c236665a04eb"
      },
      "execution_count": null,
      "outputs": [
        {
          "output_type": "stream",
          "name": "stdout",
          "text": [
            "3628800\n",
            "479001600\n"
          ]
        }
      ]
    },
    {
      "cell_type": "code",
      "source": [
        "def add_num (a,b,c):\n",
        "  return a+b\n",
        "a=add_num(22,34,32)\n",
        "b=add_num(435,231,432)\n",
        "c=add_num(34,245,234)\n",
        "d=add_num(658,346,321)\n",
        "print(a)\n",
        "print(b)\n",
        "print(c)\n",
        "print(d)\n"
      ],
      "metadata": {
        "colab": {
          "base_uri": "https://localhost:8080/"
        },
        "id": "mt0cfDmq-0tF",
        "outputId": "0e02b476-e8fd-44fb-b2cd-af2f812d985d"
      },
      "execution_count": null,
      "outputs": [
        {
          "output_type": "stream",
          "name": "stdout",
          "text": [
            "56\n",
            "666\n",
            "279\n",
            "1004\n"
          ]
        }
      ]
    },
    {
      "cell_type": "code",
      "source": [
        "def biodata(name,age,salary):\n",
        "  print(name)\n",
        "  print(age)\n",
        "  print(salary)\n",
        "a = biodata(\"ashish\",17,1000000000000000)\n"
      ],
      "metadata": {
        "colab": {
          "base_uri": "https://localhost:8080/"
        },
        "id": "rL8zoQ99_DO1",
        "outputId": "8e088093-a23c-4392-d76b-252f63580bce"
      },
      "execution_count": null,
      "outputs": [
        {
          "output_type": "stream",
          "name": "stdout",
          "text": [
            "ashish\n",
            "17\n",
            "1000000000000000\n"
          ]
        }
      ]
    },
    {
      "cell_type": "code",
      "source": [
        "def add (n):\n",
        "  sum=0\n",
        "  for i in range (1,n+1):\n",
        "   sum=sum+i\n",
        "  print(sum)\n",
        "add(10)"
      ],
      "metadata": {
        "colab": {
          "base_uri": "https://localhost:8080/"
        },
        "id": "w4GfB_ES_Hqz",
        "outputId": "8eb97c82-89b1-441d-d5e5-db3a0599498a"
      },
      "execution_count": null,
      "outputs": [
        {
          "output_type": "stream",
          "name": "stdout",
          "text": [
            "55\n"
          ]
        }
      ]
    },
    {
      "cell_type": "code",
      "source": [
        "def add_num (n):\n",
        "  first = 0\n",
        "  second = 1\n",
        "  print(first)\n",
        "  print(second)\n",
        "  for i in range (2,10):\n",
        "    third = first + second\n",
        "    first = second\n",
        "    second = third\n",
        "    print(second)\n",
        "add_num (10)\n"
      ],
      "metadata": {
        "colab": {
          "base_uri": "https://localhost:8080/"
        },
        "id": "D2Vlz4skCdqv",
        "outputId": "721a86eb-ff6e-42df-c8ee-bee44fa69587"
      },
      "execution_count": null,
      "outputs": [
        {
          "output_type": "stream",
          "name": "stdout",
          "text": [
            "0\n",
            "1\n",
            "1\n",
            "2\n",
            "3\n",
            "5\n",
            "8\n",
            "13\n",
            "21\n",
            "34\n"
          ]
        }
      ]
    },
    {
      "cell_type": "code",
      "source": [
        "def add_num(n):\n",
        "  fact=1\n",
        "  for i in range (1,n+1):\n",
        "   fact=fact*i\n",
        "  return fact\n",
        "num_a=add_num(5)\n",
        "num_b=add_num(2)\n",
        "print(num_a)\n",
        "print(num_b)"
      ],
      "metadata": {
        "colab": {
          "base_uri": "https://localhost:8080/"
        },
        "id": "_LCH3uczCRXH",
        "outputId": "279fc9a5-a7ef-4f43-bbcb-b96bdafc03f2"
      },
      "execution_count": null,
      "outputs": [
        {
          "output_type": "stream",
          "name": "stdout",
          "text": [
            "120\n",
            "2\n"
          ]
        }
      ]
    },
    {
      "cell_type": "code",
      "source": [
        "def fact(n):\n",
        "  sum=0\n",
        "  factorial = 1\n",
        "  for i in range (1,n+1):\n",
        "    if(i%2!=0):\n",
        "      factorial = factorial*i\n",
        "    print(factorial)\n",
        "  sum+=factorial\n",
        "  print(factorial)\n",
        "  print(sum)\n",
        "fact(5)"
      ],
      "metadata": {
        "colab": {
          "base_uri": "https://localhost:8080/"
        },
        "id": "RP4vC0wWDmWP",
        "outputId": "58367c98-0d42-4c2f-f001-353508d5ebc7"
      },
      "execution_count": null,
      "outputs": [
        {
          "output_type": "stream",
          "name": "stdout",
          "text": [
            "1\n",
            "1\n",
            "3\n",
            "3\n",
            "15\n",
            "15\n",
            "15\n"
          ]
        }
      ]
    },
    {
      "cell_type": "code",
      "source": [
        "def fact(n):\n",
        "  sum = 0\n",
        "  fact = 1\n",
        "  for i in range(1,n+1,2):\n",
        "      for y in range(1,i+1):\n",
        "        fact = fact*y\n",
        "        sum = sum+fact\n",
        "        print(sum)\n",
        "x=10\n",
        "fact(x)"
      ],
      "metadata": {
        "id": "-PUKGTudJzdo",
        "colab": {
          "base_uri": "https://localhost:8080/"
        },
        "outputId": "81c924a3-eddf-4a8b-c244-de7e9c31d709"
      },
      "execution_count": 51,
      "outputs": [
        {
          "output_type": "stream",
          "name": "stdout",
          "text": [
            "1\n",
            "2\n",
            "4\n",
            "10\n",
            "16\n",
            "28\n",
            "64\n",
            "208\n",
            "928\n",
            "1648\n",
            "3088\n",
            "7408\n",
            "24688\n",
            "111088\n",
            "629488\n",
            "4258288\n",
            "7887088\n",
            "15144688\n",
            "36917488\n",
            "124008688\n",
            "559464688\n",
            "3172200688\n",
            "21461352688\n",
            "167774568688\n",
            "1484593512688\n"
          ]
        }
      ]
    },
    {
      "cell_type": "code",
      "source": [
        "def add_num(*ars):\n",
        "  return sum(ars)\n",
        "a=add_num(1,2,3,4)\n",
        "b=add_num(2,3,4,5)\n",
        "print(a)\n",
        "print(b)"
      ],
      "metadata": {
        "colab": {
          "base_uri": "https://localhost:8080/"
        },
        "id": "fyjqyu21QpI7",
        "outputId": "cddeb58e-fee1-49d9-bef0-54490e1bed37"
      },
      "execution_count": 54,
      "outputs": [
        {
          "output_type": "stream",
          "name": "stdout",
          "text": [
            "10\n",
            "14\n"
          ]
        }
      ]
    },
    {
      "cell_type": "code",
      "source": [
        "def add_num(*ars):\n",
        "  sum=0\n",
        "  for i in ars:\n",
        "    sum=sum+i\n",
        "  print(sum)\n",
        "a= add_num(1,2,3,4,5,6)\n",
        "\n",
        ""
      ],
      "metadata": {
        "colab": {
          "base_uri": "https://localhost:8080/"
        },
        "id": "63CjmQSnSeVF",
        "outputId": "c2991c3c-79f9-4886-ac16-22281971b0c5"
      },
      "execution_count": 69,
      "outputs": [
        {
          "output_type": "stream",
          "name": "stdout",
          "text": [
            "21\n"
          ]
        }
      ]
    },
    {
      "cell_type": "code",
      "source": [
        "def year():\n",
        "  year=int(input(\"enter year  :\"))\n",
        "  if year%4==0 and year%100!=0 or year%400==0:\n",
        "    days_in_month=29\n",
        "    print(\"it is a leap year \")\n",
        "  else:\n",
        "    days_in_month=28\n",
        "    print(\"it is not a leap year\")\n",
        "print(year)"
      ],
      "metadata": {
        "colab": {
          "base_uri": "https://localhost:8080/"
        },
        "id": "umH-GBHTU0NF",
        "outputId": "73c62617-53e2-4dbb-e1c0-1bae64c20bb1"
      },
      "execution_count": 76,
      "outputs": [
        {
          "output_type": "stream",
          "name": "stdout",
          "text": [
            "<function year at 0x7af2f8140720>\n"
          ]
        }
      ]
    }
  ]
}