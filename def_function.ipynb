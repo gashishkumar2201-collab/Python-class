{
  "nbformat": 4,
  "nbformat_minor": 0,
  "metadata": {
    "colab": {
      "provenance": [],
      "authorship_tag": "ABX9TyNmynlTsvnvTTMaRCppRy4s",
      "include_colab_link": true
    },
    "kernelspec": {
      "name": "python3",
      "display_name": "Python 3"
    },
    "language_info": {
      "name": "python"
    }
  },
  "cells": [
    {
      "cell_type": "markdown",
      "metadata": {
        "id": "view-in-github",
        "colab_type": "text"
      },
      "source": [
        "<a href=\"https://colab.research.google.com/github/gashishkumar2201-collab/Python-class/blob/main/def_function.ipynb\" target=\"_parent\"><img src=\"https://colab.research.google.com/assets/colab-badge.svg\" alt=\"Open In Colab\"/></a>"
      ]
    },
    {
      "cell_type": "code",
      "execution_count": null,
      "metadata": {
        "colab": {
          "base_uri": "https://localhost:8080/"
        },
        "id": "YVVOyv_f7AX7",
        "outputId": "e1b5a46b-37c5-4997-f885-f80c31be751c"
      },
      "outputs": [
        {
          "output_type": "stream",
          "name": "stdout",
          "text": [
            "hello every one\n"
          ]
        }
      ],
      "source": [
        "def speak ():\n",
        "  print (\"hello every one\")\n",
        "a= speak()"
      ]
    },
    {
      "cell_type": "code",
      "source": [
        "def add_num(a,b):\n",
        "  return a+b\n",
        "result= add_num(10,12)\n",
        "print(result)"
      ],
      "metadata": {
        "colab": {
          "base_uri": "https://localhost:8080/"
        },
        "id": "rDYZvLKb7vbR",
        "outputId": "feff3b55-b3f4-4593-ad25-7df13ef6f0f7"
      },
      "execution_count": null,
      "outputs": [
        {
          "output_type": "stream",
          "name": "stdout",
          "text": [
            "22\n"
          ]
        }
      ]
    },
    {
      "cell_type": "code",
      "source": [
        "def add_num(a,b):\n",
        "  return a*b\n",
        "result= add_num(10,12)\n",
        "print(result)"
      ],
      "metadata": {
        "colab": {
          "base_uri": "https://localhost:8080/"
        },
        "id": "FXLof4gY70k0",
        "outputId": "4188253d-6a6a-4c28-e319-52924d29d608"
      },
      "execution_count": null,
      "outputs": [
        {
          "output_type": "stream",
          "name": "stdout",
          "text": [
            "120\n"
          ]
        }
      ]
    },
    {
      "cell_type": "code",
      "source": [
        "def add_num(a,b):\n",
        "  return a+b\n",
        "result= add_num(10,12)\n",
        "result_2= add_num(12,10)\n",
        "print(result)\n",
        "print(result_2)"
      ],
      "metadata": {
        "colab": {
          "base_uri": "https://localhost:8080/"
        },
        "id": "d51KeMbX76Ny",
        "outputId": "a77e90c4-7e95-4606-cc3d-fd3cc91c9559"
      },
      "execution_count": null,
      "outputs": [
        {
          "output_type": "stream",
          "name": "stdout",
          "text": [
            "22\n",
            "22\n"
          ]
        }
      ]
    },
    {
      "cell_type": "code",
      "source": [
        "def add_num(n):\n",
        "  fact=1\n",
        "  for i in range (1,n+1):\n",
        "   fact=fact*i\n",
        "  return fact\n",
        "num_a=add_num(10)\n",
        "num_b=add_num(12)\n",
        "print(num_a)\n",
        "print(num_b)"
      ],
      "metadata": {
        "colab": {
          "base_uri": "https://localhost:8080/"
        },
        "id": "FGOyS3Nu8EBl",
        "outputId": "cea53724-1ce7-4a52-e2ab-c236665a04eb"
      },
      "execution_count": null,
      "outputs": [
        {
          "output_type": "stream",
          "name": "stdout",
          "text": [
            "3628800\n",
            "479001600\n"
          ]
        }
      ]
    },
    {
      "cell_type": "code",
      "source": [
        "def add_num (a,b,c):\n",
        "  return a+b+c\n",
        "a=add_num(22,34,32)\n",
        "b=add_num(435,231,432)\n",
        "c=add_num(34,245,234)\n",
        "d=add_num(658,346,321)\n",
        "print(a)\n",
        "print(b)\n",
        "print(c)\n",
        "print(d)\n"
      ],
      "metadata": {
        "colab": {
          "base_uri": "https://localhost:8080/"
        },
        "id": "mt0cfDmq-0tF",
        "outputId": "9deea00f-8cdc-4bdc-cb71-f2e2521e0846"
      },
      "execution_count": 1,
      "outputs": [
        {
          "output_type": "stream",
          "name": "stdout",
          "text": [
            "88\n",
            "1098\n",
            "513\n",
            "1325\n"
          ]
        }
      ]
    },
    {
      "cell_type": "code",
      "source": [
        "def biodata(name,age,salary):\n",
        "  print(name)\n",
        "  print(age)\n",
        "  print(salary)\n",
        "a = biodata(\"ashish\",17,1000000000000000)\n"
      ],
      "metadata": {
        "colab": {
          "base_uri": "https://localhost:8080/"
        },
        "id": "rL8zoQ99_DO1",
        "outputId": "8e088093-a23c-4392-d76b-252f63580bce"
      },
      "execution_count": null,
      "outputs": [
        {
          "output_type": "stream",
          "name": "stdout",
          "text": [
            "ashish\n",
            "17\n",
            "1000000000000000\n"
          ]
        }
      ]
    },
    {
      "cell_type": "code",
      "source": [
        "def add (n):\n",
        "  sum=0\n",
        "  for i in range (1,n+1):\n",
        "   sum=sum+i\n",
        "  print(sum)\n",
        "add(10)"
      ],
      "metadata": {
        "colab": {
          "base_uri": "https://localhost:8080/"
        },
        "id": "w4GfB_ES_Hqz",
        "outputId": "8eb97c82-89b1-441d-d5e5-db3a0599498a"
      },
      "execution_count": null,
      "outputs": [
        {
          "output_type": "stream",
          "name": "stdout",
          "text": [
            "55\n"
          ]
        }
      ]
    },
    {
      "cell_type": "code",
      "source": [
        "def add_num (n):\n",
        "  first = 0\n",
        "  second = 1\n",
        "  print(first)\n",
        "  print(second)\n",
        "  for i in range (2,10):\n",
        "    third = first + second\n",
        "    first = second\n",
        "    second = third\n",
        "    print(second)\n",
        "add_num (10)\n"
      ],
      "metadata": {
        "colab": {
          "base_uri": "https://localhost:8080/"
        },
        "id": "D2Vlz4skCdqv",
        "outputId": "721a86eb-ff6e-42df-c8ee-bee44fa69587"
      },
      "execution_count": null,
      "outputs": [
        {
          "output_type": "stream",
          "name": "stdout",
          "text": [
            "0\n",
            "1\n",
            "1\n",
            "2\n",
            "3\n",
            "5\n",
            "8\n",
            "13\n",
            "21\n",
            "34\n"
          ]
        }
      ]
    },
    {
      "cell_type": "code",
      "source": [
        "def add_num(n):\n",
        "  fact=1\n",
        "  for i in range (1,n+1):\n",
        "   fact=fact*i\n",
        "  return fact\n",
        "num_a=add_num(5)\n",
        "num_b=add_num(2)\n",
        "print(num_a)\n",
        "print(num_b)"
      ],
      "metadata": {
        "colab": {
          "base_uri": "https://localhost:8080/"
        },
        "id": "_LCH3uczCRXH",
        "outputId": "279fc9a5-a7ef-4f43-bbcb-b96bdafc03f2"
      },
      "execution_count": null,
      "outputs": [
        {
          "output_type": "stream",
          "name": "stdout",
          "text": [
            "120\n",
            "2\n"
          ]
        }
      ]
    },
    {
      "cell_type": "code",
      "source": [
        "def fact(n):\n",
        "  sum=0\n",
        "  factorial = 1\n",
        "  for i in range (1,n+1):\n",
        "    if(i%2!=0):\n",
        "      factorial = factorial*i\n",
        "    print(factorial)\n",
        "  sum+=factorial\n",
        "  print(factorial)\n",
        "  print(sum)\n",
        "fact(5)"
      ],
      "metadata": {
        "colab": {
          "base_uri": "https://localhost:8080/"
        },
        "id": "RP4vC0wWDmWP",
        "outputId": "58367c98-0d42-4c2f-f001-353508d5ebc7"
      },
      "execution_count": null,
      "outputs": [
        {
          "output_type": "stream",
          "name": "stdout",
          "text": [
            "1\n",
            "1\n",
            "3\n",
            "3\n",
            "15\n",
            "15\n",
            "15\n"
          ]
        }
      ]
    },
    {
      "cell_type": "code",
      "source": [
        "def fact(n):\n",
        "  sum = 0\n",
        "  fact = 1\n",
        "  for i in range(1,n+1,2):\n",
        "      for y in range(1,i+1):\n",
        "        fact = fact*y\n",
        "        sum = sum+fact\n",
        "        print(sum)\n",
        "x=10\n",
        "fact(x)"
      ],
      "metadata": {
        "id": "-PUKGTudJzdo",
        "colab": {
          "base_uri": "https://localhost:8080/"
        },
        "outputId": "81c924a3-eddf-4a8b-c244-de7e9c31d709"
      },
      "execution_count": null,
      "outputs": [
        {
          "output_type": "stream",
          "name": "stdout",
          "text": [
            "1\n",
            "2\n",
            "4\n",
            "10\n",
            "16\n",
            "28\n",
            "64\n",
            "208\n",
            "928\n",
            "1648\n",
            "3088\n",
            "7408\n",
            "24688\n",
            "111088\n",
            "629488\n",
            "4258288\n",
            "7887088\n",
            "15144688\n",
            "36917488\n",
            "124008688\n",
            "559464688\n",
            "3172200688\n",
            "21461352688\n",
            "167774568688\n",
            "1484593512688\n"
          ]
        }
      ]
    },
    {
      "cell_type": "code",
      "source": [
        "def add_num(*ars):\n",
        "  return sum(ars)\n",
        "a=add_num(1,2,3,4)\n",
        "b=add_num(2,3,4,5)\n",
        "print(a)\n",
        "print(b)"
      ],
      "metadata": {
        "colab": {
          "base_uri": "https://localhost:8080/"
        },
        "id": "fyjqyu21QpI7",
        "outputId": "cddeb58e-fee1-49d9-bef0-54490e1bed37"
      },
      "execution_count": null,
      "outputs": [
        {
          "output_type": "stream",
          "name": "stdout",
          "text": [
            "10\n",
            "14\n"
          ]
        }
      ]
    },
    {
      "cell_type": "code",
      "source": [
        "def add_num(*ars):\n",
        "  sum=0\n",
        "  for i in ars:\n",
        "    sum=sum+i\n",
        "  print(sum)\n",
        "a= add_num(1,2,3,4,5,6)\n",
        "\n"
      ],
      "metadata": {
        "colab": {
          "base_uri": "https://localhost:8080/"
        },
        "id": "63CjmQSnSeVF",
        "outputId": "c2991c3c-79f9-4886-ac16-22281971b0c5"
      },
      "execution_count": null,
      "outputs": [
        {
          "output_type": "stream",
          "name": "stdout",
          "text": [
            "21\n"
          ]
        }
      ]
    },
    {
      "cell_type": "code",
      "source": [
        "def year():\n",
        "  year=int(input(\"enter year  :\"))\n",
        "  if year%4==0 and year%100!=0 or year%400==0:\n",
        "    days_in_month=29\n",
        "    print(\"it is a leap year \")\n",
        "  else:\n",
        "    days_in_month=28\n",
        "    print(\"it is not a leap year\")"
      ],
      "metadata": {
        "id": "umH-GBHTU0NF"
      },
      "execution_count": null,
      "outputs": []
    },
    {
      "cell_type": "code",
      "source": [
        "def add(**kwargs):\n",
        "  print(kwargs)\n",
        "add(a=\"ashish kumar\",age=17,salary=2300)"
      ],
      "metadata": {
        "colab": {
          "base_uri": "https://localhost:8080/"
        },
        "id": "Nv0gCoMiL6zf",
        "outputId": "ac3f7271-c79b-4c3e-be41-2981af41aa39"
      },
      "execution_count": null,
      "outputs": [
        {
          "output_type": "stream",
          "name": "stdout",
          "text": [
            "{'a': 'ashish kumar', 'age': 17, 'salary': 2300}\n"
          ]
        }
      ]
    },
    {
      "cell_type": "code",
      "source": [
        "a=10\n",
        "b=20\n",
        "print(f\"sum of {a} and {b}  : is  {a+b}\")"
      ],
      "metadata": {
        "colab": {
          "base_uri": "https://localhost:8080/"
        },
        "id": "kYwy2qsQNjvM",
        "outputId": "252985b8-e1dc-4e15-b8db-607d194b90f8"
      },
      "execution_count": null,
      "outputs": [
        {
          "output_type": "stream",
          "name": "stdout",
          "text": [
            "sum of 10 and 20  : is  30\n"
          ]
        }
      ]
    },
    {
      "cell_type": "code",
      "source": [
        "def add_num(n):\n",
        "  fact=1\n",
        "  sum=0\n",
        "  for i in range (1,n+1):\n",
        "   fact=fact*i\n",
        "  return fact+sum\n",
        "num_a=add_num(5)\n",
        "num_b=add_num(2)\n",
        "print(num_a)\n",
        "print(num_b)"
      ],
      "metadata": {
        "colab": {
          "base_uri": "https://localhost:8080/"
        },
        "id": "ZFcwJC-CQ-_e",
        "outputId": "5c081754-1d95-4de5-b9ef-b32e8b10be58"
      },
      "execution_count": null,
      "outputs": [
        {
          "output_type": "stream",
          "name": "stdout",
          "text": [
            "120\n",
            "2\n"
          ]
        }
      ]
    },
    {
      "cell_type": "code",
      "source": [
        "def fact(n):\n",
        "  if n==0 or n==1:\n",
        "    return 1\n",
        "  else:\n",
        "    return n*fact(n-1)\n",
        "a=fact(5)\n",
        "b=fact(2)\n",
        "print(a)\n",
        "print(b)"
      ],
      "metadata": {
        "colab": {
          "base_uri": "https://localhost:8080/"
        },
        "id": "GMgfywWDTZvm",
        "outputId": "3b9f01d2-085b-407f-ece0-86e83e6e8f6c"
      },
      "execution_count": null,
      "outputs": [
        {
          "output_type": "stream",
          "name": "stdout",
          "text": [
            "120\n",
            "2\n"
          ]
        }
      ]
    },
    {
      "cell_type": "code",
      "source": [
        "a=lambda a,b:a+b\n",
        "print(a(2,6))"
      ],
      "metadata": {
        "id": "eXYyF-J_Uu6W",
        "colab": {
          "base_uri": "https://localhost:8080/"
        },
        "outputId": "f4d4cdce-11aa-427c-fe99-7eaabd48f1fd"
      },
      "execution_count": null,
      "outputs": [
        {
          "output_type": "stream",
          "name": "stdout",
          "text": [
            "8\n"
          ]
        }
      ]
    },
    {
      "cell_type": "code",
      "source": [
        "a=lambda a,b:a*b\n",
        "print(a(2,6))"
      ],
      "metadata": {
        "colab": {
          "base_uri": "https://localhost:8080/"
        },
        "id": "F_2ZnpMXU1iQ",
        "outputId": "032e047e-40c3-478d-ad11-fe0b65774a11"
      },
      "execution_count": null,
      "outputs": [
        {
          "output_type": "stream",
          "name": "stdout",
          "text": [
            "12\n"
          ]
        }
      ]
    },
    {
      "cell_type": "code",
      "source": [],
      "metadata": {
        "id": "Ki4IbjdQVplj"
      },
      "execution_count": null,
      "outputs": []
    },
    {
      "cell_type": "code",
      "source": [
        "def fact(n):\n",
        "  sum=0\n",
        "  factorial = 1\n",
        "  for i in range (1,n+1):\n",
        "    if(i%2!=0):\n",
        "      factorial = factorial*i\n",
        "    print(factorial)\n",
        "  sum+=factorial\n",
        "  print(factorial)\n",
        "  print(sum)\n",
        "fact(5)"
      ],
      "metadata": {
        "colab": {
          "base_uri": "https://localhost:8080/"
        },
        "outputId": "479f7396-89c6-4492-d966-a0ac0ff67b87",
        "id": "hcgraMvDWHzJ"
      },
      "execution_count": null,
      "outputs": [
        {
          "output_type": "stream",
          "name": "stdout",
          "text": [
            "1\n",
            "1\n",
            "3\n",
            "3\n",
            "15\n",
            "15\n",
            "15\n"
          ]
        }
      ]
    },
    {
      "cell_type": "code",
      "source": [
        "def fact(n):\n",
        "  factorial=1\n",
        "  sum=0\n",
        "  for i in range (1,n+1):\n",
        "    factorial=factorial*i\n",
        "    if(i%2!=0):\n",
        "     sum=sum+factorial\n",
        "    print(sum)\n",
        "fact(10)\n"
      ],
      "metadata": {
        "colab": {
          "base_uri": "https://localhost:8080/"
        },
        "id": "eq8n42QGWNNK",
        "outputId": "71788ed6-d1c6-41c5-a7c6-1580408d2481"
      },
      "execution_count": null,
      "outputs": [
        {
          "output_type": "stream",
          "name": "stdout",
          "text": [
            "1\n",
            "1\n",
            "7\n",
            "7\n",
            "127\n",
            "127\n",
            "5167\n",
            "5167\n",
            "368047\n",
            "368047\n"
          ]
        }
      ]
    },
    {
      "cell_type": "code",
      "source": [
        "def fact(n):\n",
        "  factorial=1\n",
        "  sum=0\n",
        "  for i in range (1,n+1):\n",
        "    factorial=factorial*i\n",
        "    if(i%4==2):\n",
        "     sum=sum+factorial\n",
        "  print(sum)\n",
        "fact(8)"
      ],
      "metadata": {
        "colab": {
          "base_uri": "https://localhost:8080/"
        },
        "id": "mK5HfdXpbJr0",
        "outputId": "898ae321-250e-4a0a-c21c-8a96b8719ffb"
      },
      "execution_count": null,
      "outputs": [
        {
          "output_type": "stream",
          "name": "stdout",
          "text": [
            "722\n"
          ]
        }
      ]
    },
    {
      "cell_type": "code",
      "source": [
        "num = 30\n",
        "print(f\"factor of {num}:\")\n",
        "for i in range(1,num+1):\n",
        "  if(num%i==0):\n",
        "    print(i)"
      ],
      "metadata": {
        "colab": {
          "base_uri": "https://localhost:8080/"
        },
        "id": "-GHCFcgIg_T1",
        "outputId": "1f1a6fab-aaf5-4e4b-b1e1-965388b021f6"
      },
      "execution_count": null,
      "outputs": [
        {
          "output_type": "stream",
          "name": "stdout",
          "text": [
            "factor of 30:\n",
            "1\n",
            "2\n",
            "3\n",
            "5\n",
            "6\n",
            "10\n",
            "15\n",
            "30\n"
          ]
        }
      ]
    },
    {
      "cell_type": "code",
      "source": [
        "def find_hef(a,b):\n",
        "  while(b):\n",
        "    a,b=b,a%b\n",
        "  return a\n",
        "num1=100\n",
        "num2=300\n",
        "hcf=find_hef(num1,num2)\n",
        "print(hcf)\n"
      ],
      "metadata": {
        "colab": {
          "base_uri": "https://localhost:8080/"
        },
        "id": "997KPiivip1o",
        "outputId": "b6bef3b7-df21-46e6-819f-a0696b7a38da"
      },
      "execution_count": null,
      "outputs": [
        {
          "output_type": "stream",
          "name": "stdout",
          "text": [
            "100\n"
          ]
        }
      ]
    },
    {
      "cell_type": "code",
      "source": [
        "def find_lcm(a,b):\n",
        "  lcm = (a*b)/find_hcf(a,b)\n",
        "  return lcm\n",
        "num1=10\n",
        "num2=15\n",
        "print(num1)\n",
        "print(num2)"
      ],
      "metadata": {
        "id": "dBpUJNi3lqY_",
        "colab": {
          "base_uri": "https://localhost:8080/"
        },
        "outputId": "0c832574-06a0-4581-e54b-f74502878b34"
      },
      "execution_count": 7,
      "outputs": [
        {
          "output_type": "stream",
          "name": "stdout",
          "text": [
            "10\n",
            "15\n"
          ]
        }
      ]
    },
    {
      "cell_type": "code",
      "source": [
        "a=10\n",
        "b=15\n",
        "if a>b:\n",
        "  greatest = a\n",
        "else:\n",
        "  greatest = b\n",
        "  for i in range(greatest,a*b+1):\n",
        "   if i%a==0 and i%b==0:\n",
        "    print(i)\n",
        "    break"
      ],
      "metadata": {
        "colab": {
          "base_uri": "https://localhost:8080/"
        },
        "id": "CNDOBTBm1F1e",
        "outputId": "a2f620f6-601c-44bc-f5f3-af4b864a55c2"
      },
      "execution_count": null,
      "outputs": [
        {
          "output_type": "stream",
          "name": "stdout",
          "text": [
            "30\n"
          ]
        }
      ]
    },
    {
      "cell_type": "code",
      "source": [
        "a=30\n",
        "b=40\n",
        "if a>b:\n",
        "  greatest = a\n",
        "else:\n",
        "  greatest = b\n",
        "  for i in range(greatest,a*b+1):\n",
        "   if i%a==0 and i%b==0:\n",
        "    print(i)\n",
        "    break\n",
        "c=6*60+30\n",
        "print(\"second in:\",  c)\n",
        "d=c/i\n",
        "print(\"round meet:\",  d)"
      ],
      "metadata": {
        "colab": {
          "base_uri": "https://localhost:8080/"
        },
        "id": "1zDkKb_29om4",
        "outputId": "37c1e9dc-f2b1-4c7a-c0f4-2972b26dfdfd"
      },
      "execution_count": null,
      "outputs": [
        {
          "output_type": "stream",
          "name": "stdout",
          "text": [
            "120\n",
            "second in: 390\n",
            "round meet: 3.25\n"
          ]
        }
      ]
    },
    {
      "cell_type": "code",
      "source": [
        "speed=(1000/30)\n",
        "print(speed)\n",
        "speed2=(1000/40)\n",
        "print(speed2)\n",
        "average=speed+speed2/2\n",
        "print(average)"
      ],
      "metadata": {
        "colab": {
          "base_uri": "https://localhost:8080/"
        },
        "id": "oIOzIRYmEO73",
        "outputId": "c7fdf665-cee2-46a4-ef00-08c5ad90a53d"
      },
      "execution_count": null,
      "outputs": [
        {
          "output_type": "stream",
          "name": "stdout",
          "text": [
            "33.333333333333336\n",
            "25.0\n",
            "45.833333333333336\n"
          ]
        }
      ]
    },
    {
      "cell_type": "code",
      "source": [
        "#exception handling\n",
        "try:\n",
        "  a=10\n",
        "  b=0\n",
        "  a/b\n",
        "except ZeroDivisionError:\n",
        "  print(\"cannot divided by zero\")\n",
        "else:\n",
        "  print(\"divided by zero\")\n",
        "finally:\n",
        "  (\"thanku\")"
      ],
      "metadata": {
        "colab": {
          "base_uri": "https://localhost:8080/"
        },
        "id": "-OxfppLf8Wv-",
        "outputId": "4360fd09-e04d-4457-d90b-c88f3e27d45b"
      },
      "execution_count": 5,
      "outputs": [
        {
          "output_type": "stream",
          "name": "stdout",
          "text": [
            "cannot divided by zero\n"
          ]
        }
      ]
    },
    {
      "cell_type": "code",
      "source": [
        "#string\n",
        "name=(\"ashish\")\n",
        "name2=(\"  kumar\")\n",
        "print(name+ name2)"
      ],
      "metadata": {
        "colab": {
          "base_uri": "https://localhost:8080/"
        },
        "id": "YCkZCHxi-pJ3",
        "outputId": "9c315fa3-c74b-477e-854d-e769447c03d5"
      },
      "execution_count": 10,
      "outputs": [
        {
          "output_type": "stream",
          "name": "stdout",
          "text": [
            "ashish  kumar\n"
          ]
        }
      ]
    },
    {
      "cell_type": "code",
      "source": [
        "state =\"punjab\"\n",
        "print(state[1])"
      ],
      "metadata": {
        "colab": {
          "base_uri": "https://localhost:8080/"
        },
        "id": "T-S9jw-Y_BlH",
        "outputId": "a951dcac-673b-40db-b584-94f3f8da4251"
      },
      "execution_count": 12,
      "outputs": [
        {
          "output_type": "stream",
          "name": "stdout",
          "text": [
            "u\n"
          ]
        }
      ]
    },
    {
      "cell_type": "code",
      "source": [
        "state=\"punjab\"\n",
        "if \"a\" in state:\n",
        "  print(\"aveleble\")\n",
        "else:\n",
        "  print(\"not aveleble\")"
      ],
      "metadata": {
        "colab": {
          "base_uri": "https://localhost:8080/"
        },
        "id": "t3iXZ1e8Btox",
        "outputId": "261b96ed-9f4e-4add-f250-5d6eb8e4de9d"
      },
      "execution_count": 15,
      "outputs": [
        {
          "output_type": "stream",
          "name": "stdout",
          "text": [
            "aveleble\n"
          ]
        }
      ]
    },
    {
      "cell_type": "code",
      "source": [
        "state=\"punjanb\"\n",
        "for i in state:\n",
        "  print(i)\n",
        ""
      ],
      "metadata": {
        "colab": {
          "base_uri": "https://localhost:8080/"
        },
        "id": "bOAAcAzkCbgl",
        "outputId": "e249b830-d47a-4c51-e187-59531394ee2e"
      },
      "execution_count": 16,
      "outputs": [
        {
          "output_type": "stream",
          "name": "stdout",
          "text": [
            "p\n",
            "u\n",
            "n\n",
            "j\n",
            "a\n",
            "n\n",
            "b\n"
          ]
        }
      ]
    },
    {
      "cell_type": "code",
      "source": [
        "state=\"   ashish    \"\n",
        "print(state.strip())"
      ],
      "metadata": {
        "colab": {
          "base_uri": "https://localhost:8080/"
        },
        "id": "LP_4zEbdC6Wm",
        "outputId": "0e551703-2953-46d2-f4c8-8ede40ade9b9"
      },
      "execution_count": 19,
      "outputs": [
        {
          "output_type": "stream",
          "name": "stdout",
          "text": [
            "ashish\n"
          ]
        }
      ]
    },
    {
      "cell_type": "code",
      "source": [
        "state=\"punjab\"\n",
        "print(state.startswith(\"pu\"))\n",
        "print(state.endswith(\"b\"))\n"
      ],
      "metadata": {
        "colab": {
          "base_uri": "https://localhost:8080/"
        },
        "id": "coO41rQaDnRL",
        "outputId": "0f2e784f-31ab-4979-fc9f-119c97e96281"
      },
      "execution_count": 24,
      "outputs": [
        {
          "output_type": "stream",
          "name": "stdout",
          "text": [
            "True\n",
            "True\n"
          ]
        }
      ]
    },
    {
      "cell_type": "code",
      "source": [
        "state=\"p u n j a b\"\n",
        "print(state.replace(\" \",\"\"))"
      ],
      "metadata": {
        "colab": {
          "base_uri": "https://localhost:8080/"
        },
        "id": "JT1ja6tFFAIZ",
        "outputId": "d75865ee-ef2a-4f26-824f-608bf00851dd"
      },
      "execution_count": 26,
      "outputs": [
        {
          "output_type": "stream",
          "name": "stdout",
          "text": [
            "punjab\n"
          ]
        }
      ]
    },
    {
      "cell_type": "code",
      "source": [
        "state=\"punjab\"\n",
        "print(state.lower())\n",
        "print(state.upper())"
      ],
      "metadata": {
        "colab": {
          "base_uri": "https://localhost:8080/"
        },
        "id": "lpxLa7NRFb9t",
        "outputId": "9210207c-e3ad-4864-9e62-cd4ffae95b5b"
      },
      "execution_count": 27,
      "outputs": [
        {
          "output_type": "stream",
          "name": "stdout",
          "text": [
            "punjab\n",
            "PUNJAB\n"
          ]
        }
      ]
    },
    {
      "cell_type": "code",
      "source": [
        "state =\"punjab\"\n",
        "print(state[0:4])"
      ],
      "metadata": {
        "colab": {
          "base_uri": "https://localhost:8080/"
        },
        "id": "lup_meBhF4iT",
        "outputId": "2e2ef2c2-b378-43e6-8c18-509d558c285b"
      },
      "execution_count": 29,
      "outputs": [
        {
          "output_type": "stream",
          "name": "stdout",
          "text": [
            "punj\n"
          ]
        }
      ]
    },
    {
      "cell_type": "code",
      "source": [
        "state =\"punjab\"\n",
        "print(state[0:4:3])"
      ],
      "metadata": {
        "colab": {
          "base_uri": "https://localhost:8080/"
        },
        "id": "svVkP080HBgj",
        "outputId": "32e07cbf-7e1a-4b74-9dd1-d7b6b9faab54"
      },
      "execution_count": 32,
      "outputs": [
        {
          "output_type": "stream",
          "name": "stdout",
          "text": [
            "pj\n"
          ]
        }
      ]
    },
    {
      "cell_type": "code",
      "source": [
        "state =\"punjab\"\n",
        "print(state[0:4])\n",
        "print(state[-2])\n",
        "print(state[::-1])"
      ],
      "metadata": {
        "colab": {
          "base_uri": "https://localhost:8080/"
        },
        "id": "3s6JIIuBG8Oa",
        "outputId": "65f4be54-617c-4c84-9bae-48c9ba786386"
      },
      "execution_count": 35,
      "outputs": [
        {
          "output_type": "stream",
          "name": "stdout",
          "text": [
            "punj\n",
            "a\n",
            "bajnup\n"
          ]
        }
      ]
    }
  ]
}