{
  "nbformat": 4,
  "nbformat_minor": 0,
  "metadata": {
    "colab": {
      "provenance": [],
      "authorship_tag": "ABX9TyNJzaApOioNopMeIYfcCYUL",
      "include_colab_link": true
    },
    "kernelspec": {
      "name": "python3",
      "display_name": "Python 3"
    },
    "language_info": {
      "name": "python"
    }
  },
  "cells": [
    {
      "cell_type": "markdown",
      "metadata": {
        "id": "view-in-github",
        "colab_type": "text"
      },
      "source": [
        "<a href=\"https://colab.research.google.com/github/gashishkumar2201-collab/Python-class/blob/main/file_handling.ipynb\" target=\"_parent\"><img src=\"https://colab.research.google.com/assets/colab-badge.svg\" alt=\"Open In Colab\"/></a>"
      ]
    },
    {
      "cell_type": "code",
      "execution_count": 1,
      "metadata": {
        "colab": {
          "base_uri": "https://localhost:8080/"
        },
        "id": "pb2-oW1aY4h3",
        "outputId": "bfd71d61-8548-4609-d90d-03e726f09ff9"
      },
      "outputs": [
        {
          "output_type": "stream",
          "name": "stdout",
          "text": [
            "kunden\n",
            "kumar\n"
          ]
        }
      ],
      "source": [
        "#file handling\n",
        "with open (\"file 1.txt\",\"w\")as file:\n",
        "  file.write(\"kunden\")\n",
        "with open (\"file 2.txt\",\"w\")as file:\n",
        "  file.write(\"kumar\")\n",
        "with open(\"file 1.txt\",\"r\")as file:\n",
        "  data1=file.read()\n",
        "  print(data1)\n",
        "with open(\"file 2.txt\",\"r\")as file:\n",
        "  data2=file.read()\n",
        "  print(data2)\n",
        "with open (\"file 3.txt\",\"w\")as file:\n",
        "  file.write(data1+\"  \"+data2)\n"
      ]
    },
    {
      "cell_type": "code",
      "source": [
        "with open (\"fileaks.txt\",\"w\")as file:\n",
        "  file.write(\"ashish kumar\\n\")\n",
        "  file.write(\"i am from bihar\\n\")\n",
        "  file.write(\"i am in class 11th C\\n\")"
      ],
      "metadata": {
        "id": "0UmEaK2dajUa"
      },
      "execution_count": 3,
      "outputs": []
    },
    {
      "cell_type": "code",
      "source": [
        "with open (\"fileaks.txt\",\"r\")as file:\n",
        "  d=file.read()\n",
        "  print(d)\n",
        "with open (\"fileaks.txt\",\"a\")as file:\n",
        "  file.write(\"heeeeeeee\")"
      ],
      "metadata": {
        "colab": {
          "base_uri": "https://localhost:8080/"
        },
        "id": "2R0hgur4X-rr",
        "outputId": "7c1270d0-d3d1-4e31-ab4b-43992580242f"
      },
      "execution_count": 7,
      "outputs": [
        {
          "output_type": "stream",
          "name": "stdout",
          "text": [
            "ashish kumar\n",
            "i am from bihar\n",
            "i am in class 11th C\n",
            "heeeeeeee\n"
          ]
        }
      ]
    },
    {
      "cell_type": "code",
      "source": [],
      "metadata": {
        "id": "t4FcDVFYYWzD"
      },
      "execution_count": null,
      "outputs": []
    }
  ]
}