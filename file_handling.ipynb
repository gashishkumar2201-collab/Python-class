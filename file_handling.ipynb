{
  "nbformat": 4,
  "nbformat_minor": 0,
  "metadata": {
    "colab": {
      "provenance": [],
      "authorship_tag": "ABX9TyNfmTyPzxwWmIwcQC5bfmXe",
      "include_colab_link": true
    },
    "kernelspec": {
      "name": "python3",
      "display_name": "Python 3"
    },
    "language_info": {
      "name": "python"
    }
  },
  "cells": [
    {
      "cell_type": "markdown",
      "metadata": {
        "id": "view-in-github",
        "colab_type": "text"
      },
      "source": [
        "<a href=\"https://colab.research.google.com/github/gashishkumar2201-collab/Python-class/blob/main/file_handling.ipynb\" target=\"_parent\"><img src=\"https://colab.research.google.com/assets/colab-badge.svg\" alt=\"Open In Colab\"/></a>"
      ]
    },
    {
      "cell_type": "code",
      "execution_count": null,
      "metadata": {
        "colab": {
          "base_uri": "https://localhost:8080/"
        },
        "id": "pb2-oW1aY4h3",
        "outputId": "bfd71d61-8548-4609-d90d-03e726f09ff9"
      },
      "outputs": [
        {
          "output_type": "stream",
          "name": "stdout",
          "text": [
            "kunden\n",
            "kumar\n"
          ]
        }
      ],
      "source": [
        "#file handling\n",
        "with open (\"file 1.txt\",\"w\")as file:\n",
        "  file.write(\"kunden\")\n",
        "with open (\"file 2.txt\",\"w\")as file:\n",
        "  file.write(\"kumar\")\n",
        "with open(\"file 1.txt\",\"r\")as file:\n",
        "  data1=file.read()\n",
        "  print(data1)\n",
        "with open(\"file 2.txt\",\"r\")as file:\n",
        "  data2=file.read()\n",
        "  print(data2)\n",
        "with open (\"file 3.txt\",\"w\")as file:\n",
        "  file.write(data1+\"  \"+data2)\n"
      ]
    },
    {
      "cell_type": "code",
      "source": [
        "with open (\"fileaks.txt\",\"w\")as file:\n",
        "  file.write(\"ashish kumar\\n\")\n",
        "  file.write(\"i am from bihar\\n\")\n",
        "  file.write(\"i am in class 11th C\\n\")"
      ],
      "metadata": {
        "id": "0UmEaK2dajUa"
      },
      "execution_count": null,
      "outputs": []
    },
    {
      "cell_type": "code",
      "source": [
        "with open (\"fileaks.txt\",\"r\")as file:\n",
        "  d=file.read()\n",
        "  print(d)\n",
        "with open (\"fileaks.txt\",\"a\")as file:\n",
        "  file.write(\"heeeeeeee\")"
      ],
      "metadata": {
        "colab": {
          "base_uri": "https://localhost:8080/"
        },
        "id": "2R0hgur4X-rr",
        "outputId": "7c1270d0-d3d1-4e31-ab4b-43992580242f"
      },
      "execution_count": null,
      "outputs": [
        {
          "output_type": "stream",
          "name": "stdout",
          "text": [
            "ashish kumar\n",
            "i am from bihar\n",
            "i am in class 11th C\n",
            "heeeeeeee\n"
          ]
        }
      ]
    },
    {
      "cell_type": "code",
      "source": [],
      "metadata": {
        "id": "2WxkCd39vsDq"
      },
      "execution_count": null,
      "outputs": []
    },
    {
      "cell_type": "code",
      "source": [
        "import csv\n",
        "Customer,Gender,State,Product,Amount=[],[],[],[],[]\n",
        "with open (\"sales.csv\",\"r\") as file:\n",
        "  reader=csv.reader(file)\n",
        "  header=next(reader)\n",
        "  for i in reader:\n",
        "    Customer.append(i[0])\n",
        "    Gender.append(i[1])\n",
        "    State.append(i[2])\n",
        "    Product.append(i[3])\n",
        "    Amount.append(i[4])\n",
        "print(Customer)\n",
        "print(Gender)\n",
        "print(State)\n",
        "print(Product)\n",
        "print(Amount)"
      ],
      "metadata": {
        "id": "t4FcDVFYYWzD",
        "colab": {
          "base_uri": "https://localhost:8080/"
        },
        "outputId": "9ca4b123-4f84-48d8-a210-2c3e9c0717a5"
      },
      "execution_count": 11,
      "outputs": [
        {
          "output_type": "stream",
          "name": "stdout",
          "text": [
            "['Alice', 'Bob', 'Charlie', 'Diana', 'Ethan', 'Fiona', 'George', 'Hannah', 'Ian', 'Jane', 'Kevin', 'Laura', 'Mike', 'Nina', 'Oscar', 'Paula', 'Quinn', 'Rita', 'Sam', 'Tina', 'Uma', 'Victor', 'Wendy', 'Xander', 'Yara', 'Zane', 'Liam', 'Mia', 'Noah', 'Olivia', 'Peter', 'Sophia', 'James', 'Ava', 'Henry', 'Emily', 'Daniel', 'Grace', 'Jacob', 'Ella', 'Lucas', 'Amelia', 'Mason', 'Harper', 'Logan', 'Evelyn', 'Ethan', 'Abigail', 'Elijah', 'Charlotte']\n",
            "['F', 'M', 'M', 'F', 'M', 'F', 'M', 'F', 'M', 'F', 'M', 'F', 'M', 'F', 'F', 'M', 'M', 'F', 'F', 'M', 'M', 'F', 'M', 'F', 'M', 'M', 'F', 'F', 'F', 'M', 'M', 'M', 'M', 'F', 'M', 'F', 'M', 'M', 'F', 'F', 'F', 'M', 'M', 'F', 'M', 'F', 'M', 'M', 'M', 'F']\n",
            "['California', 'Texas', 'California', 'New York', 'Texas', 'Florida', 'California', 'Texas', 'Florida', 'New York', 'New York', 'California', 'Florida', 'California', 'California', 'Texas', 'Florida', 'New York', 'New York', 'California', 'Illinois', 'Illinois', 'Texas', 'Florida', 'Illinois', 'Florida', 'Florida', 'California', 'Illinois', 'New York', 'Florida', 'Illinois', 'Texas', 'Florida', 'Illinois', 'Illinois', 'Florida', 'New York', 'Illinois', 'Illinois', 'Texas', 'New York', 'Florida', 'California', 'California', 'Florida', 'Texas', 'New York', 'Illinois', 'California']\n",
            "['Laptop', 'Phone', 'Tablet', 'Laptop', 'Headphones', 'Phone', 'Phone', 'Tablet', 'Laptop', 'Headphones', 'Laptop', 'Tablet', 'Headphones', 'Laptop', 'Tablet', 'Headphones', 'Phone', 'Tablet', 'Laptop', 'Tablet', 'Phone', 'Headphones', 'Tablet', 'Headphones', 'Laptop', 'Phone', 'Laptop', 'Tablet', 'Headphones', 'Phone', 'Tablet', 'Tablet', 'Headphones', 'Phone', 'Tablet', 'Laptop', 'Laptop', 'Laptop', 'Headphones', 'Phone', 'Laptop', 'Headphones', 'Tablet', 'Tablet', 'Headphones', 'Tablet', 'Laptop', 'Headphones', 'Headphones', 'Phone']\n",
            "['1200', '800', '450', '1300', '200', '850', '750', '500', '1400', '220', '976', '1186', '315', '1445', '560', '1998', '526', '1134', '412', '1901', '1925', '697', '673', '991', '1173', '1773', '659', '1745', '1070', '1361', '1424', '219', '1650', '1818', '904', '1196', '983', '1573', '603', '1425', '331', '1614', '1514', '687', '684', '1434', '664', '1419', '1508', '1623']\n"
          ]
        }
      ]
    },
    {
      "cell_type": "code",
      "source": [],
      "metadata": {
        "id": "HVHXuZfevqm8"
      },
      "execution_count": null,
      "outputs": []
    }
  ]
}