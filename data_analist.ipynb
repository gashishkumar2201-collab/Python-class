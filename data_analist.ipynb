{
  "nbformat": 4,
  "nbformat_minor": 0,
  "metadata": {
    "colab": {
      "provenance": [],
      "authorship_tag": "ABX9TyNq9Y+Z1PmFosBNfnVJHhZP",
      "include_colab_link": true
    },
    "kernelspec": {
      "name": "python3",
      "display_name": "Python 3"
    },
    "language_info": {
      "name": "python"
    }
  },
  "cells": [
    {
      "cell_type": "markdown",
      "metadata": {
        "id": "view-in-github",
        "colab_type": "text"
      },
      "source": [
        "<a href=\"https://colab.research.google.com/github/gashishkumar2201-collab/Python-class/blob/main/data_analist.ipynb\" target=\"_parent\"><img src=\"https://colab.research.google.com/assets/colab-badge.svg\" alt=\"Open In Colab\"/></a>"
      ]
    },
    {
      "cell_type": "code",
      "execution_count": 23,
      "metadata": {
        "colab": {
          "base_uri": "https://localhost:8080/"
        },
        "id": "5fJ3ZRJTJhDt",
        "outputId": "8bf1f990-f466-4ae8-d0c2-e94f3b0fa8e8"
      },
      "outputs": [
        {
          "output_type": "stream",
          "name": "stdout",
          "text": [
            "['male', 'female']\n",
            "['mango', 'apple', 'mouse', 'laptop', 'phone', 'charger', 'shirt']\n",
            "[0, 0, 0, 0, 0, 0, 0]\n",
            "['up', 'punjab', 'chandigarh', 'bihar', 'odisa', 'delhi', 'chenai']\n",
            "224000\n"
          ]
        }
      ],
      "source": [
        "customer_name=[\"ashish\",\"ram\",\"sayam\",\"aarti\",\"aditaya\",\"amrita\",\"swati\",\"tanu\",\"aanu\",\"tom\"]\n",
        "state=[\"up\",\"punjab\",\"chandigarh\",\"bihar\",\"odisa\",\"delhi\",\"chenai\",\"punjab\",\"punjab\",\"punjab\",\"bihar\"]\n",
        "product=[\"mango\",\"apple\",\"mouse\",\"laptop\",\"phone\",\"charger\",\"shirt\"]\n",
        "amount=[100,200,700,200000,20000,1000,2000]\n",
        "gender=[\"male\",\"female\"]\n",
        "unique_state=[]\n",
        "sales_state=[]\n",
        "unique_product=[]\n",
        "unique_gender=[]\n",
        "for i in state:\n",
        "  if i not in unique_state:\n",
        "    unique_state.append(i)\n",
        "    sales_state.append(0)\n",
        "for i in product:\n",
        "  if i not in unique_product:\n",
        "    unique_product.append(i)\n",
        "for i in gender:\n",
        "  if i not in unique_gender:\n",
        "    unique_gender.append(i)\n",
        "for i in range\n",
        "print(unique_gender)\n",
        "print(unique_product)\n",
        "print(sales_state)\n",
        "print(unique_state)\n",
        "total_sale=0\n",
        "for i in amount:\n",
        "  total_sale=total_sale+i\n",
        "print(total_sale)"
      ]
    }
  ]
}