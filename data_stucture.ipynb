{
  "nbformat": 4,
  "nbformat_minor": 0,
  "metadata": {
    "colab": {
      "provenance": [],
      "authorship_tag": "ABX9TyNu4/wANHeDjDoRRL/w4cXP",
      "include_colab_link": true
    },
    "kernelspec": {
      "name": "python3",
      "display_name": "Python 3"
    },
    "language_info": {
      "name": "python"
    }
  },
  "cells": [
    {
      "cell_type": "markdown",
      "metadata": {
        "id": "view-in-github",
        "colab_type": "text"
      },
      "source": [
        "<a href=\"https://colab.research.google.com/github/gashishkumar2201-collab/Python-class/blob/main/data_stucture.ipynb\" target=\"_parent\"><img src=\"https://colab.research.google.com/assets/colab-badge.svg\" alt=\"Open In Colab\"/></a>"
      ]
    },
    {
      "cell_type": "code",
      "source": [
        "#list\n",
        "a =(20,30,40,50)\n",
        "print(a[0])"
      ],
      "metadata": {
        "colab": {
          "base_uri": "https://localhost:8080/"
        },
        "id": "kawlEBjtL3vo",
        "outputId": "d2a2355b-d25a-479a-b067-8c8c4bd6039c"
      },
      "execution_count": null,
      "outputs": [
        {
          "output_type": "stream",
          "name": "stdout",
          "text": [
            "20\n"
          ]
        }
      ]
    },
    {
      "cell_type": "code",
      "source": [
        "#list\n",
        "a =(20,30,40,50)\n",
        "b=a[::-1]\n",
        "print(b)"
      ],
      "metadata": {
        "colab": {
          "base_uri": "https://localhost:8080/"
        },
        "id": "OLL3f90hMaLu",
        "outputId": "7f500231-32f7-45ce-cdbe-d67c711c6472"
      },
      "execution_count": null,
      "outputs": [
        {
          "output_type": "stream",
          "name": "stdout",
          "text": [
            "(50, 40, 30, 20)\n"
          ]
        }
      ]
    },
    {
      "cell_type": "code",
      "source": [
        "a=1,2,3,4,5\n",
        "for i in a:\n",
        "  print(i)"
      ],
      "metadata": {
        "colab": {
          "base_uri": "https://localhost:8080/"
        },
        "id": "NlQv7cgVNSnE",
        "outputId": "713a0a3a-2306-4635-8af8-7849bf76fe3e"
      },
      "execution_count": null,
      "outputs": [
        {
          "output_type": "stream",
          "name": "stdout",
          "text": [
            "1\n",
            "2\n",
            "3\n",
            "4\n",
            "5\n"
          ]
        }
      ]
    },
    {
      "cell_type": "code",
      "source": [
        "a=1,2,3,4,5\n",
        "sum=0\n",
        "for i in a:\n",
        "  sum=sum+i\n",
        "  print(sum)\n"
      ],
      "metadata": {
        "colab": {
          "base_uri": "https://localhost:8080/"
        },
        "id": "eaYAr-VfNqo3",
        "outputId": "6b6db92d-f1a0-48a9-ff08-7cc2b2485d8b"
      },
      "execution_count": null,
      "outputs": [
        {
          "output_type": "stream",
          "name": "stdout",
          "text": [
            "1\n",
            "3\n",
            "6\n",
            "10\n",
            "15\n"
          ]
        }
      ]
    },
    {
      "cell_type": "code",
      "source": [
        "a=[1,2,3,4]\n",
        "sum=0\n",
        "for i in a:\n",
        "  print(i)\n",
        "  sum=sum+i\n",
        "print(f\"the total sum is:\",{sum})"
      ],
      "metadata": {
        "colab": {
          "base_uri": "https://localhost:8080/"
        },
        "id": "KCWeMEGHTVII",
        "outputId": "86711f5b-d183-4e1e-904f-41b58337ba5b"
      },
      "execution_count": null,
      "outputs": [
        {
          "output_type": "stream",
          "name": "stdout",
          "text": [
            "1\n",
            "2\n",
            "3\n",
            "4\n",
            "the total sum is: {10}\n"
          ]
        }
      ]
    },
    {
      "cell_type": "code",
      "source": [
        "for i in range(0,10):\n",
        "  print(\"*\"*i)"
      ],
      "metadata": {
        "colab": {
          "base_uri": "https://localhost:8080/"
        },
        "id": "ZxysLZPtU3Jl",
        "outputId": "7a7a1fb0-faa7-409a-c39a-1ae2d5b21a88"
      },
      "execution_count": null,
      "outputs": [
        {
          "output_type": "stream",
          "name": "stdout",
          "text": [
            "\n",
            "*\n",
            "**\n",
            "***\n",
            "****\n",
            "*****\n",
            "******\n",
            "*******\n",
            "********\n",
            "*********\n"
          ]
        }
      ]
    },
    {
      "cell_type": "code",
      "source": [
        "item=[]\n",
        "n=int(input(\"enter the number:  \"))\n",
        "for i in range(5):\n",
        "  a=input(\"enter the name:  \")\n",
        "  item.append(a)\n",
        "print(item)"
      ],
      "metadata": {
        "id": "MWw5lTG2Y6b8",
        "colab": {
          "base_uri": "https://localhost:8080/"
        },
        "outputId": "1de565fb-9312-41b2-f654-70b03b51958b"
      },
      "execution_count": null,
      "outputs": [
        {
          "output_type": "stream",
          "name": "stdout",
          "text": [
            "enter the number:  2\n",
            "enter the name:  we\n",
            "enter the name:  ee\n",
            "enter the name:  ee\n",
            "enter the name:  ee\n",
            "enter the name:  eee\n",
            "['we', 'ee', 'ee', 'ee', 'eee']\n"
          ]
        }
      ]
    },
    {
      "cell_type": "code",
      "source": [
        "#slicing\n",
        "a=[1,2,30,50]\n",
        "print(a[0])\n",
        "print(a[0:5])"
      ],
      "metadata": {
        "colab": {
          "base_uri": "https://localhost:8080/"
        },
        "id": "JWsFZV0-OdRj",
        "outputId": "1ab9f403-695a-4a84-dfe9-6519ef858c12"
      },
      "execution_count": null,
      "outputs": [
        {
          "output_type": "stream",
          "name": "stdout",
          "text": [
            "1\n",
            "[1, 2, 30, 50]\n"
          ]
        }
      ]
    },
    {
      "cell_type": "code",
      "source": [
        "a=[1,2,3,4,5]\n",
        "for i in a:\n",
        "  print(i)"
      ],
      "metadata": {
        "colab": {
          "base_uri": "https://localhost:8080/"
        },
        "id": "G4Tf4x7CPTYF",
        "outputId": "517d26f4-1634-46eb-96e3-f8a2825a0bf3"
      },
      "execution_count": null,
      "outputs": [
        {
          "output_type": "stream",
          "name": "stdout",
          "text": [
            "1\n",
            "2\n",
            "3\n",
            "4\n",
            "5\n"
          ]
        }
      ]
    },
    {
      "cell_type": "code",
      "source": [
        "a=[1,2,3,4,5]#for different element\n",
        "for i in a:\n",
        "  print(i)"
      ],
      "metadata": {
        "colab": {
          "base_uri": "https://localhost:8080/"
        },
        "id": "q0oe0GQWPnHC",
        "outputId": "c815a5fe-be9a-4efc-bee4-da850a1c048b"
      },
      "execution_count": null,
      "outputs": [
        {
          "output_type": "stream",
          "name": "stdout",
          "text": [
            "1\n",
            "2\n",
            "3\n",
            "4\n",
            "5\n"
          ]
        }
      ]
    },
    {
      "cell_type": "code",
      "source": [
        "#list\n",
        "a=[1,2,3,4,5,6,7,8,9,10]\n",
        "print(a)"
      ],
      "metadata": {
        "colab": {
          "base_uri": "https://localhost:8080/"
        },
        "id": "zCbWvIHzQAoA",
        "outputId": "a6a4fb07-8b15-4426-ec52-1f271bef5a5a"
      },
      "execution_count": null,
      "outputs": [
        {
          "output_type": "stream",
          "name": "stdout",
          "text": [
            "[1, 2, 3, 4, 5, 6, 7, 8, 9, 10]\n"
          ]
        }
      ]
    },
    {
      "cell_type": "code",
      "source": [
        "city=[\"chandigarh\",\"delhi\",\"banglore\",\"chenai\"]\n",
        "print(city)"
      ],
      "metadata": {
        "colab": {
          "base_uri": "https://localhost:8080/"
        },
        "id": "QaAGRtcMQKH9",
        "outputId": "f3d4611c-3fd3-413d-ca69-4b9d3b8f70f1"
      },
      "execution_count": null,
      "outputs": [
        {
          "output_type": "stream",
          "name": "stdout",
          "text": [
            "['chandigarh', 'delhi', 'banglore', 'chenai']\n"
          ]
        }
      ]
    },
    {
      "cell_type": "code",
      "source": [
        "for i in range(0,10):\n",
        "  print(\"*\"*i)\n",
        "for i in range(10,0,-1):\n",
        "  print(\"*\"*i)"
      ],
      "metadata": {
        "colab": {
          "base_uri": "https://localhost:8080/"
        },
        "id": "u4MbCT2gQpf1",
        "outputId": "d6b83413-f0f1-4496-d1a2-5ec0632483be"
      },
      "execution_count": null,
      "outputs": [
        {
          "output_type": "stream",
          "name": "stdout",
          "text": [
            "\n",
            "*\n",
            "**\n",
            "***\n",
            "****\n",
            "*****\n",
            "******\n",
            "*******\n",
            "********\n",
            "*********\n",
            "**********\n",
            "*********\n",
            "********\n",
            "*******\n",
            "******\n",
            "*****\n",
            "****\n",
            "***\n",
            "**\n",
            "*\n"
          ]
        }
      ]
    },
    {
      "cell_type": "code",
      "source": [
        "#list\n",
        "n=2\n",
        "items=[]\n",
        "prices=[]\n",
        "total_bill=0\n",
        "total_discount=0\n",
        "discount_percents=[]\n",
        "\n",
        "for i in range(n):\n",
        "  item=input(f\"enter item name{i+1}:  \",)\n",
        "  items.append(item)\n",
        "  price=int(input(f\"enter the item price{i+1}:  \",))\n",
        "  prices.append(price)\n",
        "  discount_percent=int(input(f\"enter discount percent{i+1}:  \",))\n",
        "  discount_percents.append(discount_percent)\n",
        "  total_bill=total_bill+price\n",
        "  total_discount=total_discount+(price*discount_percent/100)\n",
        "payble_bill=total_bill-total_discount\n",
        "print(\"total discount:\",total_discount)\n",
        "print(\"payble bill:\",payble_bill)\n",
        "\n",
        "\n"
      ],
      "metadata": {
        "colab": {
          "base_uri": "https://localhost:8080/"
        },
        "id": "KnYNR9uJci73",
        "outputId": "ddadaf19-f3a5-4eb0-875b-1895abb5bf4e"
      },
      "execution_count": 29,
      "outputs": [
        {
          "output_type": "stream",
          "name": "stdout",
          "text": [
            "enter item name1:  pizza\n",
            "enter the item price1:  200\n",
            "enter discount percent1:  20\n",
            "enter item name2:  pasta\n",
            "enter the item price2:  500\n",
            "enter discount percent2:  50\n",
            "total discount: 290.0\n",
            "payble bill: 410.0\n"
          ]
        }
      ]
    },
    {
      "cell_type": "code",
      "source": [],
      "metadata": {
        "id": "0XfqTezLV8mK"
      },
      "execution_count": null,
      "outputs": []
    }
  ]
}