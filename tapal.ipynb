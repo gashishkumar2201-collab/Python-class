{
  "nbformat": 4,
  "nbformat_minor": 0,
  "metadata": {
    "colab": {
      "provenance": [],
      "authorship_tag": "ABX9TyPrEJEmfQkLdnSkB4IwkY6l",
      "include_colab_link": true
    },
    "kernelspec": {
      "name": "python3",
      "display_name": "Python 3"
    },
    "language_info": {
      "name": "python"
    }
  },
  "cells": [
    {
      "cell_type": "markdown",
      "metadata": {
        "id": "view-in-github",
        "colab_type": "text"
      },
      "source": [
        "<a href=\"https://colab.research.google.com/github/gashishkumar2201-collab/Python-class/blob/main/tapal.ipynb\" target=\"_parent\"><img src=\"https://colab.research.google.com/assets/colab-badge.svg\" alt=\"Open In Colab\"/></a>"
      ]
    },
    {
      "cell_type": "code",
      "execution_count": 1,
      "metadata": {
        "id": "Lm2_YaFq3fOk",
        "colab": {
          "base_uri": "https://localhost:8080/"
        },
        "outputId": "651f384c-ad7e-4c6e-e06f-6e754bfdc02a"
      },
      "outputs": [
        {
          "output_type": "stream",
          "name": "stdout",
          "text": [
            "enter 1 element of list  :ashish\n",
            "enter 2 element of list  :mayank\n",
            "enter 3 element of list  :kishor\n",
            "enter 4 element of list  :ag\n",
            "enter 5 element of list  :pg\n",
            "['ashish', 'mayank', 'kishor', 'ag', 'pg']\n"
          ]
        }
      ],
      "source": [
        "a=()\n",
        "for i in range(5):\n",
        "  c=input(f\"enter {i+1} element of list  :\")\n",
        "  b=list(a)\n",
        "  b.append(c)\n",
        "  a=tuple(b)\n",
        "print(b)"
      ]
    },
    {
      "cell_type": "code",
      "source": [
        "#disneries\n",
        "a={\n",
        "    \"name\":\"prince\",\n",
        "  \"age\" : 24,\n",
        "  \"gender\":\"male\"\n",
        "}\n",
        "print(a[\"age\"])"
      ],
      "metadata": {
        "colab": {
          "base_uri": "https://localhost:8080/"
        },
        "id": "tfKAkSOuHD2t",
        "outputId": "75c3d7fa-e548-4e36-9bf7-3caef268a78b"
      },
      "execution_count": 5,
      "outputs": [
        {
          "output_type": "stream",
          "name": "stdout",
          "text": [
            "24\n"
          ]
        }
      ]
    },
    {
      "cell_type": "code",
      "source": [
        "a={\n",
        "    \"name\":\"prince\",\n",
        "  \"age\" : 24,\n",
        "  \"gender\":\"male\"\n",
        "}\n",
        "for key,value in a. items():\n",
        "  print(key,\":\",value)"
      ],
      "metadata": {
        "colab": {
          "base_uri": "https://localhost:8080/"
        },
        "id": "VHSqZiRaLZ5k",
        "outputId": "37e40f0a-1f4d-49bd-c2d1-becd9b8a3c52"
      },
      "execution_count": 6,
      "outputs": [
        {
          "output_type": "stream",
          "name": "stdout",
          "text": [
            "name : prince\n",
            "age : 24\n",
            "gender : male\n"
          ]
        }
      ]
    },
    {
      "cell_type": "code",
      "source": [
        "item={\n",
        "    \"pizza\" : 300,\n",
        "    \"burger\" :400,\n",
        "    \"pasta\" : 500,\n",
        "    \"cold drink\" : 100,\n",
        "    \"momos\"  : 100\n",
        "}\n",
        "for key,value in item. items():\n",
        "  print(key,\":\",value)\n"
      ],
      "metadata": {
        "colab": {
          "base_uri": "https://localhost:8080/"
        },
        "id": "sumft03UMJP-",
        "outputId": "bc820fd7-6923-4418-8718-969d6d58b898"
      },
      "execution_count": 9,
      "outputs": [
        {
          "output_type": "stream",
          "name": "stdout",
          "text": [
            "pizza : 300\n",
            "burger : 400\n",
            "pasta : 500\n",
            "cold drink : 100\n",
            "momos : 100\n"
          ]
        }
      ]
    },
    {
      "cell_type": "code",
      "source": [
        "item={\n",
        "    \"pizza\" : 300,\n",
        "    \"burger\" :400,\n",
        "    \"pasta\" : 500,\n",
        "    \"cold drink\" : 100,\n",
        "    \"momos\"  : 100\n",
        "}\n",
        "print(item)"
      ],
      "metadata": {
        "colab": {
          "base_uri": "https://localhost:8080/"
        },
        "id": "SgColrYWNKWn",
        "outputId": "cd011037-c225-4e43-a484-4aca4ff3be95"
      },
      "execution_count": 10,
      "outputs": [
        {
          "output_type": "stream",
          "name": "stdout",
          "text": [
            "{'pizza': 300, 'burger': 400, 'pasta': 500, 'cold drink': 100, 'momos': 100}\n"
          ]
        }
      ]
    },
    {
      "cell_type": "code",
      "source": [
        "sum=0\n",
        "item={\n",
        "    \"pizza\" : 300,\n",
        "    \"burger\" :400,\n",
        "    \"pasta\" : 500,\n",
        "    \"cold drink\" : 100,\n",
        "    \"momos\"  : 100\n",
        "}\n",
        "for value in item. values():\n",
        "  sum=sum+value\n",
        "print(sum)\n",
        "\n"
      ],
      "metadata": {
        "colab": {
          "base_uri": "https://localhost:8080/"
        },
        "id": "EBsYiGnNNZXP",
        "outputId": "3a4e23bb-ba26-4ffb-932a-5688a3a416f5"
      },
      "execution_count": 14,
      "outputs": [
        {
          "output_type": "stream",
          "name": "stdout",
          "text": [
            "1400\n"
          ]
        }
      ]
    },
    {
      "cell_type": "code",
      "source": [
        "#file handling\n",
        "with open(\"akg.txt\",\"w\")as file:\n",
        "  file.write(\"hi,i am ashish\")"
      ],
      "metadata": {
        "id": "OXj0QPaiO9Bf"
      },
      "execution_count": 15,
      "outputs": []
    }
  ]
}